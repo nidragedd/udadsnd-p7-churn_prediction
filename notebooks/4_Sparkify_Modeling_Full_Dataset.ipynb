{
 "cells": [
  {
   "cell_type": "markdown",
   "metadata": {},
   "source": [
    "# SPARKIFY PROJECT - MODELING ON FULL DATASET\n",
    "**This notebook explores the full dataset available (12GB)**.  \n",
    "It can be retrieved here: [s3n://udacity-dsnd/sparkify/sparkify_event_data.json](s3n://udacity-dsnd/sparkify/sparkify_event_data.json)"
   ]
  },
  {
   "cell_type": "markdown",
   "metadata": {},
   "source": [
    "## Import libraries, init Spark and load dataset"
   ]
  },
  {
   "cell_type": "code",
   "execution_count": 1,
   "metadata": {},
   "outputs": [],
   "source": [
    "import pyspark\n",
    "from pyspark.sql import SparkSession\n",
    "\n",
    "from pyspark.sql.functions import lit\n",
    "from pyspark.sql.functions import mean as Fmean\n",
    "\n",
    "# MODELING imports\n",
    "from pyspark.ml.classification import LogisticRegression, RandomForestClassifier, GBTClassifier\n",
    "\n",
    "from pyspark.ml import Pipeline\n",
    "from pyspark.ml.feature import MinMaxScaler, VectorAssembler\n",
    "\n",
    "from pyspark.ml.evaluation import MulticlassClassificationEvaluator\n",
    "from pyspark.ml.tuning import CrossValidator, ParamGridBuilder\n",
    "\n",
    "# To plot feature importances in the end\n",
    "import pandas as pd\n",
    "import seaborn as sns\n",
    "import matplotlib.pyplot as plt\n",
    "%matplotlib inline"
   ]
  },
  {
   "cell_type": "code",
   "execution_count": 2,
   "metadata": {},
   "outputs": [],
   "source": [
    "# Create or retrieve a Spark session\n",
    "spark = SparkSession.builder.appName(\"dsnd-p7-sparkify\").getOrCreate()"
   ]
  },
  {
   "cell_type": "markdown",
   "metadata": {},
   "source": [
    "---\n",
    "# MODELING\n",
    "To be able to start from here, the `Feature Engineering` has been made within a cluster deployed on the cloud and the results have been saved into a CSV file. So let's start by loading it:"
   ]
  },
  {
   "cell_type": "code",
   "execution_count": 3,
   "metadata": {},
   "outputs": [
    {
     "name": "stdout",
     "output_type": "stream",
     "text": [
      "+-----+------+-----+---------+---------------+--------------+-----------------+------------------+------------------+----------------+---------------+-----------------+---------+-------------+------------+---------------+--------------+------+---------+----+------+---------+-----+-------+-------------+----------+----------+-------------+\n",
      "|churn|gender|level|timedelta|nb_unique_songs|nb_total_songs|nb_unique_artists|      total_length|total_add_playlist|total_add_friend|total_thumbs_up|total_thumbs_down|total_ads|think_upgrade|has_upgraded|think_downgrade|has_downgraded|nb_404|Windows 8|iPad|iPhone|Macintosh|Linux|Unknown|Windows Vista|Windows 81|Windows XP|Windows Seven|\n",
      "+-----+------+-----+---------+---------------+--------------+-----------------+------------------+------------------+----------------+---------------+-----------------+---------+-------------+------------+---------------+--------------+------+---------+----+------+---------+-----+-------+-------------+----------+----------+-------------+\n",
      "|    1|     1|    1|       77|          945.0|        1022.0|            767.0| 259349.8972600001|              25.0|            14.0|           53.0|             33.0|     74.0|          9.0|         1.0|            3.0|           1.0|   3.0|        0|   0|     0|        0|    0|      0|            0|         0|         1|            0|\n",
      "|    0|     0|    1|       65|         1570.0|        1778.0|           1205.0|443147.60183999996|              49.0|            25.0|           92.0|             14.0|      1.0|          0.0|         0.0|           14.0|           0.0|   2.0|        0|   0|     0|        0|    0|      0|            0|         0|         0|            1|\n",
      "|    0|     0|    1|       54|          245.0|         250.0|            223.0| 63271.01815999999|               5.0|            13.0|            7.0|              4.0|      6.0|          0.0|         0.0|            5.0|           0.0|   0.0|        0|   0|     0|        1|    0|      0|            0|         0|         0|            0|\n",
      "+-----+------+-----+---------+---------------+--------------+-----------------+------------------+------------------+----------------+---------------+-----------------+---------+-------------+------------+---------------+--------------+------+---------+----+------+---------+-----+-------+-------------+----------+----------+-------------+\n",
      "only showing top 3 rows\n",
      "\n"
     ]
    }
   ],
   "source": [
    "df = spark.read.csv(\"df_total_12GB.csv\", header=True)\n",
    "df.show(3)"
   ]
  },
  {
   "cell_type": "code",
   "execution_count": 4,
   "metadata": {},
   "outputs": [
    {
     "name": "stdout",
     "output_type": "stream",
     "text": [
      "root\n",
      " |-- churn: string (nullable = true)\n",
      " |-- gender: string (nullable = true)\n",
      " |-- level: string (nullable = true)\n",
      " |-- timedelta: string (nullable = true)\n",
      " |-- nb_unique_songs: string (nullable = true)\n",
      " |-- nb_total_songs: string (nullable = true)\n",
      " |-- nb_unique_artists: string (nullable = true)\n",
      " |-- total_length: string (nullable = true)\n",
      " |-- total_add_playlist: string (nullable = true)\n",
      " |-- total_add_friend: string (nullable = true)\n",
      " |-- total_thumbs_up: string (nullable = true)\n",
      " |-- total_thumbs_down: string (nullable = true)\n",
      " |-- total_ads: string (nullable = true)\n",
      " |-- think_upgrade: string (nullable = true)\n",
      " |-- has_upgraded: string (nullable = true)\n",
      " |-- think_downgrade: string (nullable = true)\n",
      " |-- has_downgraded: string (nullable = true)\n",
      " |-- nb_404: string (nullable = true)\n",
      " |-- Windows 8: string (nullable = true)\n",
      " |-- iPad: string (nullable = true)\n",
      " |-- iPhone: string (nullable = true)\n",
      " |-- Macintosh: string (nullable = true)\n",
      " |-- Linux: string (nullable = true)\n",
      " |-- Unknown: string (nullable = true)\n",
      " |-- Windows Vista: string (nullable = true)\n",
      " |-- Windows 81: string (nullable = true)\n",
      " |-- Windows XP: string (nullable = true)\n",
      " |-- Windows Seven: string (nullable = true)\n",
      "\n"
     ]
    }
   ],
   "source": [
    "df.printSchema()"
   ]
  },
  {
   "cell_type": "markdown",
   "metadata": {},
   "source": [
    "All columns are read as string, this will be an issue for the modeling part. Columns are casted to their appropriate types:"
   ]
  },
  {
   "cell_type": "code",
   "execution_count": 5,
   "metadata": {},
   "outputs": [],
   "source": [
    "df = df.withColumn(\"churn\", df[\"churn\"].cast(\"int\"))\n",
    "df = df.withColumn(\"gender\", df[\"gender\"].cast(\"int\"))\n",
    "df = df.withColumn(\"level\", df[\"level\"].cast(\"int\"))\n",
    "df = df.withColumn(\"timedelta\", df[\"timedelta\"].cast(\"int\"))\n",
    "df = df.withColumn(\"nb_unique_songs\", df[\"nb_unique_songs\"].cast(\"int\"))\n",
    "df = df.withColumn(\"nb_total_songs\", df[\"nb_total_songs\"].cast(\"int\"))\n",
    "df = df.withColumn(\"nb_unique_artists\", df[\"nb_unique_artists\"].cast(\"int\"))\n",
    "df = df.withColumn(\"total_length\", df[\"total_length\"].cast(\"double\"))\n",
    "df = df.withColumn(\"total_add_playlist\", df[\"total_add_playlist\"].cast(\"int\"))\n",
    "df = df.withColumn(\"total_add_friend\", df[\"total_add_friend\"].cast(\"int\"))\n",
    "df = df.withColumn(\"total_thumbs_up\", df[\"total_thumbs_up\"].cast(\"int\"))\n",
    "df = df.withColumn(\"total_thumbs_down\", df[\"total_thumbs_down\"].cast(\"int\"))\n",
    "df = df.withColumn(\"total_ads\", df[\"total_ads\"].cast(\"int\"))\n",
    "df = df.withColumn(\"think_upgrade\", df[\"think_upgrade\"].cast(\"int\"))\n",
    "df = df.withColumn(\"has_upgraded\", df[\"has_upgraded\"].cast(\"int\"))\n",
    "df = df.withColumn(\"think_downgrade\", df[\"think_downgrade\"].cast(\"int\"))\n",
    "df = df.withColumn(\"has_downgraded\", df[\"has_downgraded\"].cast(\"int\"))\n",
    "df = df.withColumn(\"nb_404\", df[\"nb_404\"].cast(\"int\"))\n",
    "df = df.withColumn(\"Windows 8\", df[\"Windows 8\"].cast(\"int\"))\n",
    "df = df.withColumn(\"Windows 81\", df[\"Windows 81\"].cast(\"int\"))\n",
    "df = df.withColumn(\"iPad\", df[\"iPad\"].cast(\"int\"))\n",
    "df = df.withColumn(\"iPhone\", df[\"iPhone\"].cast(\"int\"))\n",
    "df = df.withColumn(\"Macintosh\", df[\"Macintosh\"].cast(\"int\"))\n",
    "df = df.withColumn(\"Linux\", df[\"Linux\"].cast(\"int\"))\n",
    "df = df.withColumn(\"Unknown\", df[\"Unknown\"].cast(\"int\"))\n",
    "df = df.withColumn(\"Windows Vista\", df[\"Windows Vista\"].cast(\"int\"))\n",
    "df = df.withColumn(\"Windows XP\", df[\"Windows XP\"].cast(\"int\"))\n",
    "df = df.withColumn(\"Windows Seven\", df[\"Windows Seven\"].cast(\"int\"))"
   ]
  },
  {
   "cell_type": "code",
   "execution_count": 6,
   "metadata": {},
   "outputs": [
    {
     "name": "stdout",
     "output_type": "stream",
     "text": [
      "root\n",
      " |-- churn: integer (nullable = true)\n",
      " |-- gender: integer (nullable = true)\n",
      " |-- level: integer (nullable = true)\n",
      " |-- timedelta: integer (nullable = true)\n",
      " |-- nb_unique_songs: integer (nullable = true)\n",
      " |-- nb_total_songs: integer (nullable = true)\n",
      " |-- nb_unique_artists: integer (nullable = true)\n",
      " |-- total_length: double (nullable = true)\n",
      " |-- total_add_playlist: integer (nullable = true)\n",
      " |-- total_add_friend: integer (nullable = true)\n",
      " |-- total_thumbs_up: integer (nullable = true)\n",
      " |-- total_thumbs_down: integer (nullable = true)\n",
      " |-- total_ads: integer (nullable = true)\n",
      " |-- think_upgrade: integer (nullable = true)\n",
      " |-- has_upgraded: integer (nullable = true)\n",
      " |-- think_downgrade: integer (nullable = true)\n",
      " |-- has_downgraded: integer (nullable = true)\n",
      " |-- nb_404: integer (nullable = true)\n",
      " |-- Windows 8: integer (nullable = true)\n",
      " |-- iPad: integer (nullable = true)\n",
      " |-- iPhone: integer (nullable = true)\n",
      " |-- Macintosh: integer (nullable = true)\n",
      " |-- Linux: integer (nullable = true)\n",
      " |-- Unknown: integer (nullable = true)\n",
      " |-- Windows Vista: integer (nullable = true)\n",
      " |-- Windows 81: integer (nullable = true)\n",
      " |-- Windows XP: integer (nullable = true)\n",
      " |-- Windows Seven: integer (nullable = true)\n",
      "\n"
     ]
    }
   ],
   "source": [
    "df.printSchema()"
   ]
  },
  {
   "cell_type": "markdown",
   "metadata": {},
   "source": [
    "In the next section we will:\n",
    "* split our dataset into train and test subsets\n",
    "* build different models to compare on a specific performance metric.\n",
    "* best model will then be chosen for further tuning to see if we can improve this performance metric.  \n",
    "\n",
    "## 1. Train-test split\n",
    "Made with the help of [Spark official documentation](https://spark.apache.org/docs/latest/ml-tuning.html#train-validation-split)."
   ]
  },
  {
   "cell_type": "code",
   "execution_count": 7,
   "metadata": {},
   "outputs": [],
   "source": [
    "xy_train, xy_test = df.randomSplit([0.8, 0.2], seed=42)"
   ]
  },
  {
   "cell_type": "code",
   "execution_count": 8,
   "metadata": {},
   "outputs": [
    {
     "name": "stdout",
     "output_type": "stream",
     "text": [
      "17862 rows in training dataset, 4416 rows in testing dataset\n"
     ]
    }
   ],
   "source": [
    "print(\"{} rows in training dataset, {} rows in testing dataset\".format(xy_train.count(), xy_test.count()))"
   ]
  },
  {
   "cell_type": "markdown",
   "metadata": {},
   "source": [
    "How \"good\" was the split? How many churn users are in both datasets?"
   ]
  },
  {
   "cell_type": "code",
   "execution_count": 9,
   "metadata": {},
   "outputs": [
    {
     "name": "stdout",
     "output_type": "stream",
     "text": [
      "+-------------------+\n",
      "|         avg(churn)|\n",
      "+-------------------+\n",
      "|0.22410704288433547|\n",
      "+-------------------+\n",
      "\n"
     ]
    }
   ],
   "source": [
    "xy_train.select(Fmean('churn')).show()"
   ]
  },
  {
   "cell_type": "code",
   "execution_count": 10,
   "metadata": {},
   "outputs": [
    {
     "name": "stdout",
     "output_type": "stream",
     "text": [
      "+-------------------+\n",
      "|         avg(churn)|\n",
      "+-------------------+\n",
      "|0.22644927536231885|\n",
      "+-------------------+\n",
      "\n"
     ]
    }
   ],
   "source": [
    "xy_test.select(Fmean('churn')).show()"
   ]
  },
  {
   "cell_type": "markdown",
   "metadata": {},
   "source": [
    "Good, we have the same churn average in both datasets!"
   ]
  },
  {
   "cell_type": "code",
   "execution_count": 11,
   "metadata": {},
   "outputs": [],
   "source": [
    "x_cols = df.columns[1:]"
   ]
  },
  {
   "cell_type": "code",
   "execution_count": 12,
   "metadata": {},
   "outputs": [],
   "source": [
    "def build_pipeline(x_cols, clf, use_scaling=False):\n",
    "    \"\"\"\n",
    "    Build the pipeline that will fit the needs\n",
    "    \"\"\"\n",
    "    assembler = VectorAssembler(inputCols=x_cols, outputCol=\"x_cols\")\n",
    "    minmax_scaler = MinMaxScaler(inputCol=\"x_cols\", outputCol=\"scaled_feat\")\n",
    "    stages = [assembler]\n",
    "    if use_scaling:\n",
    "        stages.append(minmax_scaler)\n",
    "    stages.append(clf)\n",
    "    return Pipeline(stages=stages)"
   ]
  },
  {
   "cell_type": "code",
   "execution_count": 13,
   "metadata": {},
   "outputs": [],
   "source": [
    "# https://spark.apache.org/docs/latest/api/python/pyspark.ml.html#pyspark.ml.evaluation.MulticlassClassificationEvaluator\n",
    "evaluator_train = MulticlassClassificationEvaluator(labelCol='churn', metricName='f1')\n",
    "evaluator_test = MulticlassClassificationEvaluator(predictionCol=\"prediction\", labelCol=\"churn\")"
   ]
  },
  {
   "cell_type": "markdown",
   "metadata": {},
   "source": [
    "## 2. Dummy classifiers"
   ]
  },
  {
   "cell_type": "code",
   "execution_count": 14,
   "metadata": {
    "scrolled": true
   },
   "outputs": [
    {
     "name": "stdout",
     "output_type": "stream",
     "text": [
      "+-----+------------+\n",
      "|churn|count(churn)|\n",
      "+-----+------------+\n",
      "|    1|        1000|\n",
      "|    0|        3416|\n",
      "+-----+------------+\n",
      "\n"
     ]
    }
   ],
   "source": [
    "xy_test.groupby('churn').agg({'churn': 'count'}).show()"
   ]
  },
  {
   "cell_type": "markdown",
   "metadata": {},
   "source": [
    "### 2.1. Pessimistic dummy classifier (everyone will churn)"
   ]
  },
  {
   "cell_type": "code",
   "execution_count": 15,
   "metadata": {},
   "outputs": [],
   "source": [
    "df_pessimistic = xy_test.select('churn').withColumn('prediction', lit(1.0))"
   ]
  },
  {
   "cell_type": "code",
   "execution_count": 16,
   "metadata": {},
   "outputs": [
    {
     "name": "stdout",
     "output_type": "stream",
     "text": [
      "F1-Score for pessimistic classifier: 0.08 (accuracy: 0.23)\n"
     ]
    }
   ],
   "source": [
    "acc_score = evaluator_test.evaluate(df_pessimistic, {evaluator_test.metricName: \"accuracy\"})\n",
    "f1_score = evaluator_test.evaluate(df_pessimistic, {evaluator_test.metricName: \"f1\"})\n",
    "print(\"F1-Score for pessimistic classifier: {:.2f} (accuracy: {:.2f})\".format(f1_score, acc_score))"
   ]
  },
  {
   "cell_type": "markdown",
   "metadata": {},
   "source": [
    "### 2.2. Optimistic dummy classifier (no one will churn)"
   ]
  },
  {
   "cell_type": "code",
   "execution_count": 17,
   "metadata": {},
   "outputs": [],
   "source": [
    "df_optimistic = xy_test.select('churn').withColumn('prediction', lit(0.0))"
   ]
  },
  {
   "cell_type": "code",
   "execution_count": 18,
   "metadata": {},
   "outputs": [
    {
     "name": "stdout",
     "output_type": "stream",
     "text": [
      "F1-Score for optimistic classifier: 0.67 (accuracy: 0.77)\n"
     ]
    }
   ],
   "source": [
    "acc_score = evaluator_test.evaluate(df_optimistic, {evaluator_test.metricName: \"accuracy\"})\n",
    "f1_score = evaluator_test.evaluate(df_optimistic, {evaluator_test.metricName: \"f1\"})\n",
    "print(\"F1-Score for optimistic classifier: {:.2f} (accuracy: {:.2f})\".format(f1_score, acc_score))"
   ]
  },
  {
   "cell_type": "markdown",
   "metadata": {},
   "source": [
    "As we can see, it is quite easy to have 77% of accuracy with a dumb classifier.\n",
    "\n",
    "We will need a common evaluation method that will be used by all our models so let's build it now:"
   ]
  },
  {
   "cell_type": "code",
   "execution_count": 15,
   "metadata": {},
   "outputs": [],
   "source": [
    "def evaluate_model(cv_model, test, evaluator, model_name):\n",
    "    \"\"\"\n",
    "    We will use this function to evaluate a given model on a given test dataset and print classification metrics\n",
    "    such as F1-Score, Precision and Recall\n",
    "    \"\"\"\n",
    "    pred = cv_model.transform(test)\n",
    "\n",
    "    f1_score = evaluator.evaluate(pred, {evaluator.metricName: \"f1\"})\n",
    "    precision_score = evaluator.evaluate(pred, {evaluator.metricName: \"weightedPrecision\"})\n",
    "    recall_score = evaluator.evaluate(pred, {evaluator.metricName: \"weightedRecall\"})\n",
    "    print(\"Metrics for {} model: F1-Score: {:.2f}, Precision: {:.2f}, Recall: {:.2f}\".format(model_name, f1_score, precision_score, recall_score))"
   ]
  },
  {
   "cell_type": "markdown",
   "metadata": {},
   "source": [
    "## 3. Logistic Regression"
   ]
  },
  {
   "cell_type": "code",
   "execution_count": 58,
   "metadata": {},
   "outputs": [
    {
     "name": "stdout",
     "output_type": "stream",
     "text": [
      "Metrics for Logistic Regression model: F1-Score: 0.75, Precision: 0.78, Recall: 0.80\n",
      "CPU times: user 318 ms, sys: 56.2 ms, total: 374 ms\n",
      "Wall time: 22.7 s\n"
     ]
    }
   ],
   "source": [
    "%%time\n",
    "log_reg = LogisticRegression(featuresCol=\"scaled_feat\", labelCol=\"churn\")\n",
    "\n",
    "# No specific param for the moment, just use the default parameters\n",
    "param = ParamGridBuilder().build()\n",
    "pipeline = build_pipeline(x_cols, log_reg, True)\n",
    "\n",
    "# https://spark.apache.org/docs/latest/api/python/pyspark.ml.html#pyspark.ml.tuning.CrossValidator\n",
    "log_reg_cv = CrossValidator(estimator=pipeline, estimatorParamMaps=param, evaluator=evaluator_train, numFolds=3)\n",
    "\n",
    "cv_model = log_reg_cv.fit(xy_train)\n",
    "\n",
    "evaluate_model(cv_model, xy_test, evaluator_test, 'Logistic Regression')"
   ]
  },
  {
   "cell_type": "code",
   "execution_count": 59,
   "metadata": {},
   "outputs": [
    {
     "name": "stdout",
     "output_type": "stream",
     "text": [
      "+-----+----------+-----------------+\n",
      "|churn|prediction|count(prediction)|\n",
      "+-----+----------+-----------------+\n",
      "|    1|       0.0|              607|\n",
      "|    0|       0.0|             3306|\n",
      "|    1|       1.0|              393|\n",
      "|    0|       1.0|              110|\n",
      "+-----+----------+-----------------+\n",
      "\n"
     ]
    }
   ],
   "source": [
    "# Confusion matrix\n",
    "pred.groupby(\"churn\", \"prediction\").agg({'prediction': 'count'}).show()"
   ]
  },
  {
   "cell_type": "code",
   "execution_count": 60,
   "metadata": {},
   "outputs": [
    {
     "name": "stdout",
     "output_type": "stream",
     "text": [
      "+----------+-----------------+\n",
      "|prediction|count(prediction)|\n",
      "+----------+-----------------+\n",
      "|       0.0|             3913|\n",
      "|       1.0|              503|\n",
      "+----------+-----------------+\n",
      "\n"
     ]
    }
   ],
   "source": [
    "# Globally, how many churn and no churn prediction for this model?\n",
    "pred.groupby('prediction').agg({'prediction': 'count'}).show()"
   ]
  },
  {
   "cell_type": "markdown",
   "metadata": {},
   "source": [
    "## 4. Random Forest"
   ]
  },
  {
   "cell_type": "code",
   "execution_count": 61,
   "metadata": {},
   "outputs": [
    {
     "name": "stdout",
     "output_type": "stream",
     "text": [
      "Metrics for Random Forest model: F1-Score: 0.79, Precision: 0.82, Recall: 0.82\n",
      "CPU times: user 265 ms, sys: 40.8 ms, total: 306 ms\n",
      "Wall time: 15.7 s\n"
     ]
    }
   ],
   "source": [
    "%%time\n",
    "rf = RandomForestClassifier(featuresCol=\"x_cols\", labelCol=\"churn\")\n",
    "\n",
    "# No specific param for the moment, just use the default parameters\n",
    "param = ParamGridBuilder().build()\n",
    "pipeline = build_pipeline(x_cols, rf)\n",
    "\n",
    "# https://spark.apache.org/docs/latest/api/python/pyspark.ml.html#pyspark.ml.tuning.CrossValidator\n",
    "rf_cv = CrossValidator(estimator=pipeline, estimatorParamMaps=param, evaluator=evaluator_train, numFolds=3)\n",
    "\n",
    "cv_model = rf_cv.fit(xy_train)\n",
    "\n",
    "evaluate_model(cv_model, xy_test, evaluator_test, 'Random Forest')"
   ]
  },
  {
   "cell_type": "code",
   "execution_count": 62,
   "metadata": {},
   "outputs": [
    {
     "name": "stdout",
     "output_type": "stream",
     "text": [
      "+-----+----------+-----------------+\n",
      "|churn|prediction|count(prediction)|\n",
      "+-----+----------+-----------------+\n",
      "|    1|       0.0|              607|\n",
      "|    0|       0.0|             3306|\n",
      "|    1|       1.0|              393|\n",
      "|    0|       1.0|              110|\n",
      "+-----+----------+-----------------+\n",
      "\n"
     ]
    }
   ],
   "source": [
    "pred.groupby(\"churn\", \"prediction\").agg({'prediction': 'count'}).show()"
   ]
  },
  {
   "cell_type": "code",
   "execution_count": 63,
   "metadata": {},
   "outputs": [
    {
     "name": "stdout",
     "output_type": "stream",
     "text": [
      "+----------+-----------------+\n",
      "|prediction|count(prediction)|\n",
      "+----------+-----------------+\n",
      "|       0.0|             3913|\n",
      "|       1.0|              503|\n",
      "+----------+-----------------+\n",
      "\n"
     ]
    }
   ],
   "source": [
    "pred.groupby('prediction').agg({'prediction': 'count'}).show()"
   ]
  },
  {
   "cell_type": "markdown",
   "metadata": {},
   "source": [
    "## 5. Gradient-Boosted Tree"
   ]
  },
  {
   "cell_type": "code",
   "execution_count": 16,
   "metadata": {},
   "outputs": [
    {
     "name": "stdout",
     "output_type": "stream",
     "text": [
      "Metrics for Gradient-Boosted Tree model: F1-Score: 0.82, Precision: 0.83, Recall: 0.84\n",
      "CPU times: user 328 ms, sys: 64.7 ms, total: 392 ms\n",
      "Wall time: 1min 22s\n"
     ]
    }
   ],
   "source": [
    "%%time\n",
    "gbt = GBTClassifier(featuresCol=\"x_cols\", labelCol=\"churn\")\n",
    "\n",
    "# No specific param for the moment, just use the default parameters\n",
    "param = ParamGridBuilder().build()\n",
    "pipeline = build_pipeline(x_cols, gbt)\n",
    "\n",
    "# https://spark.apache.org/docs/latest/api/python/pyspark.ml.html#pyspark.ml.tuning.CrossValidator\n",
    "gbt_cv = CrossValidator(estimator=pipeline, estimatorParamMaps=param, evaluator=evaluator_train, numFolds=3)\n",
    "\n",
    "cv_model = gbt_cv.fit(xy_train)\n",
    "\n",
    "evaluate_model(cv_model, xy_test, evaluator_test, 'Gradient-Boosted Tree')"
   ]
  },
  {
   "cell_type": "code",
   "execution_count": 65,
   "metadata": {},
   "outputs": [
    {
     "name": "stdout",
     "output_type": "stream",
     "text": [
      "+-----+----------+-----------------+\n",
      "|churn|prediction|count(prediction)|\n",
      "+-----+----------+-----------------+\n",
      "|    1|       0.0|              607|\n",
      "|    0|       0.0|             3306|\n",
      "|    1|       1.0|              393|\n",
      "|    0|       1.0|              110|\n",
      "+-----+----------+-----------------+\n",
      "\n"
     ]
    }
   ],
   "source": [
    "pred.groupby(\"churn\", \"prediction\").agg({'prediction': 'count'}).show()"
   ]
  },
  {
   "cell_type": "code",
   "execution_count": 66,
   "metadata": {},
   "outputs": [
    {
     "name": "stdout",
     "output_type": "stream",
     "text": [
      "+----------+-----------------+\n",
      "|prediction|count(prediction)|\n",
      "+----------+-----------------+\n",
      "|       0.0|             3913|\n",
      "|       1.0|              503|\n",
      "+----------+-----------------+\n",
      "\n"
     ]
    }
   ],
   "source": [
    "pred.groupby('prediction').agg({'prediction': 'count'}).show()"
   ]
  },
  {
   "cell_type": "markdown",
   "metadata": {},
   "source": [
    "## 6. TUNING phase\n",
    "Let's build a comparison table with the results:  \n",
    "\n",
    "| Model name                          | Computation time | F1-Score | Weighted Precision | Weighted Recall |\n",
    "|-------------------------------------|------------------|----------|--------------------|-----------------|\n",
    "| Logistic Regression                 | 23.6s            | 0.75     | 0.78               | 0.8             |\n",
    "| Random Forest                       | 17.2s            | 0.79     | 0.82               | 0.82            |\n",
    "| Gradient-Boosted Tree               | 1min 1s          | 0.82     | 0.83               | 0.84            |\n",
    "\n",
    "With the parameters by default the **Gradient-Boosted Tree is our best model with a F1-Score=0.82**. Even if it is the algorithm that takes much more time to run (due to the sequence of tree addition), we can afford it because the performance is very high compared to others solutions that have been tried.  \n",
    "\n",
    "This model is chosen for a further tuning phase to see if we can improve this good result!\n",
    "\n",
    "Here is a link of the [model documentation](https://spark.apache.org/docs/2.2.0/ml-classification-regression.html#gradient-boosted-trees-gbts) and [a code sample](https://spark.apache.org/docs/2.2.0/ml-classification-regression.html#gradient-boosted-tree-classifier).  \n",
    "The list of all possible parameters can be found [here](https://spark.apache.org/docs/2.4.3/api/python/pyspark.ml.html?highlight=gbtclassifier#pyspark.ml.classification.GBTClassifier):\n",
    "* **stepSize** (a.k.a. learning rate) in interval (0, 1] for shrinking the contribution of each estimator.\n",
    "* **maxBins**: 'Max number of bins for discretizing continuous features. Must be >=2 and >= number of categories for any categorical feature.'\n",
    "* **maxDepth**:'Maximum depth of the tree. (>= 0) E.g., depth 0 means 1 leaf node; depth 1 means 1 internal node + 2 leaf nodes.'\n",
    "* **maxIter**: 'max number of iterations (>= 0).'\n",
    "* **maxMemoryInMB**: 'Maximum memory in MB allocated to histogram aggregation. If too small, then 1 node will be split per iteration, and its aggregates may exceed this size.'\n",
    "* **minInfoGain**: 'Minimum information gain for a split to be considered at a tree node.'\n",
    "* **minInstancesPerNode**: 'Minimum number of instances each child must have after split. If a split causes the left or right child to have fewer than minInstancesPerNode, the split will be discarded as invalid. Should be >= 1.'\n",
    "* **subsamplingRate**: 'Fraction of the training data used for learning each decision tree, in range (0, 1].'"
   ]
  },
  {
   "cell_type": "code",
   "execution_count": 70,
   "metadata": {},
   "outputs": [
    {
     "name": "stdout",
     "output_type": "stream",
     "text": [
      "Metrics for Tuned Gradient-Boosted Tree model: F1-Score: 0.82, Precision: 0.83, Recall: 0.84\n",
      "CPU times: user 9.91 s, sys: 2.68 s, total: 12.6 s\n",
      "Wall time: 24min 48s\n"
     ]
    }
   ],
   "source": [
    "%%time\n",
    "gbt_tuning = GBTClassifier(featuresCol=\"x_cols\", labelCol=\"churn\")\n",
    "\n",
    "# Specify parameters we want to tune\n",
    "param = ParamGridBuilder().addGrid(gbt_tuning.maxDepth,[5, 10]) \\\n",
    "                        .addGrid(gbt_tuning.minInstancesPerNode, [1, 10]) \\\n",
    "                        .addGrid(gbt_tuning.subsamplingRate, [0.7, 1.0]) \\\n",
    "                        .addGrid(gbt_tuning.stepSize, [0.03, 0.01, 0.1]) \\\n",
    "                        .build()\n",
    "\n",
    "pipeline = build_pipeline(x_cols, gbt_tuning)\n",
    "\n",
    "# https://spark.apache.org/docs/latest/api/python/pyspark.ml.html#pyspark.ml.tuning.CrossValidator\n",
    "gbt_tuning_cv = CrossValidator(estimator=pipeline, estimatorParamMaps=param, evaluator=evaluator_train, numFolds=3)\n",
    "\n",
    "cv_model = gbt_tuning_cv.fit(xy_train)\n",
    "\n",
    "evaluate_model(cv_model, xy_test, evaluator_test, 'Tuned Gradient-Boosted Tree')"
   ]
  },
  {
   "cell_type": "markdown",
   "metadata": {},
   "source": [
    "It seems that we were not able to improve our results.  \n",
    "Let's take the best model and evaluate it to ensure it is not something wrong on my side:"
   ]
  },
  {
   "cell_type": "code",
   "execution_count": 72,
   "metadata": {},
   "outputs": [
    {
     "name": "stdout",
     "output_type": "stream",
     "text": [
      "Metrics for Tuned Gradient-Boosted Tree model: F1-Score: 0.82, Precision: 0.83, Recall: 0.84\n"
     ]
    }
   ],
   "source": [
    "best_model = cv_model.bestModel\n",
    "evaluate_model(best_model, xy_test, evaluator_test, 'Tuned Gradient-Boosted Tree')"
   ]
  },
  {
   "cell_type": "markdown",
   "metadata": {},
   "source": [
    "And now, as we are using a tree-based solution we can plot a graph with the 'features importance': it will then gives us more information about what, in the dataset, contributed the most to the churn prediction.  \n",
    "Let's go!\n",
    "\n",
    "The whole next section has been made with the great help of this [blog post](https://www.timlrx.com/2018/06/19/feature-selection-using-feature-importance-score-creating-a-pyspark-estimator/)."
   ]
  },
  {
   "cell_type": "code",
   "execution_count": 94,
   "metadata": {},
   "outputs": [],
   "source": [
    "# First we use a transformed dataset so that we can have access to the \"features\" column (in our case 'x_cols')\n",
    "df_transform = cv_model.bestModel.transform(xy_test)"
   ]
  },
  {
   "cell_type": "code",
   "execution_count": 104,
   "metadata": {},
   "outputs": [],
   "source": [
    "def extract_feat_importance(feature_importances, dataset, features_col):\n",
    "    list_extract = []\n",
    "    for i in dataset.schema[features_col].metadata[\"ml_attr\"][\"attrs\"]:\n",
    "        list_extract = list_extract + dataset.schema[features_col].metadata[\"ml_attr\"][\"attrs\"][i]\n",
    "    var_list = pd.DataFrame(list_extract)\n",
    "    var_list['score'] = var_list['idx'].apply(lambda x: feature_importances[x])\n",
    "    return(var_list.sort_values('score', ascending = False))\n",
    "    return var_list"
   ]
  },
  {
   "cell_type": "code",
   "execution_count": 106,
   "metadata": {},
   "outputs": [],
   "source": [
    "df_feat_importance = extract_feat_importance(cv_model.bestModel.stages[1].featureImportances, df_transform, 'x_cols')"
   ]
  },
  {
   "cell_type": "code",
   "execution_count": 112,
   "metadata": {},
   "outputs": [
    {
     "data": {
      "image/png": "[encoded data removed]",
      "text/plain": [
       "<matplotlib.figure.Figure at 0x7f8bc8f23c88>"
      ]
     },
     "metadata": {
      "needs_background": "light"
     },
     "output_type": "display_data"
    }
   ],
   "source": [
    "figure, axis = plt.subplots(1, 1, figsize=(10, 8))\n",
    "sns.barplot(x='score', y='name', data=df_feat_importance, ax=axis)\n",
    "plt.title('Feature Importance')\n",
    "plt.ylabel('');"
   ]
  },
  {
   "cell_type": "markdown",
   "metadata": {},
   "source": [
    "***Observations:***\n",
    "* In this dataset and with the features I have created, **the one that contributes the most to determine if a user will churn or not is the total number of ads listened**. That would mean that users are fed up with ads and decide to quit.\n",
    "* The second one is the **number of days of the service** (probably the less you use the more you might churn - we have seen that during the exploration phase)\n",
    "* Just after comes the **social interactions with the service (either thumbs up or down) meaning that you are satisfied or not with the songs that are suggested** by the service for example.\n",
    "* On the other side, we can see that the **user's operating system has few importance**. As it was quite painful to collect I suggest that we get rid of that information as a further improvement of this model. The data collect pipeline would be much more faster."
   ]
  },
  {
   "cell_type": "markdown",
   "metadata": {},
   "source": [
    "---\n",
    "# CONCLUSION\n",
    "We now have a model that can detect churn users with a pretty good performance (F1-Score is 0.82 with good precision and recall).  \n",
    "We could use this model on the whole database of users, classify them and give the list of users that might soon churn to a commercial/marketing service that can contact them and propose incentives for them to stay."
   ]
  }
 ],
 "metadata": {
  "kernelspec": {
   "display_name": "Python 3",
   "language": "python",
   "name": "python3"
  },
  "language_info": {
   "codemirror_mode": {
    "name": "ipython",
    "version": 3
   },
   "file_extension": ".py",
   "mimetype": "text/x-python",
   "name": "python",
   "nbconvert_exporter": "python",
   "pygments_lexer": "ipython3",
   "version": "3.7.4"
  }
 },
 "nbformat": 4,
 "nbformat_minor": 2
}
