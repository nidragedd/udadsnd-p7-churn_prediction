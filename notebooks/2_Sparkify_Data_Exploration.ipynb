{
 "cells": [
  {
   "cell_type": "markdown",
   "metadata": {},
   "source": [
    "# SPARKIFY PROJECT - DATA EXPLORATION\n",
    "This notebook explores a tiny subset (128MB) of the full dataset available (12GB).  \n",
    "Both can be retrieved here:\n",
    "* 128MB subset: [s3n://udacity-dsnd/sparkify/mini_sparkify_event_data.json](s3n://udacity-dsnd/sparkify/mini_sparkify_event_data.json)\n",
    "* full 12GB dataset: [s3n://udacity-dsnd/sparkify/sparkify_event_data.json](s3n://udacity-dsnd/sparkify/sparkify_event_data.json)\n",
    "\n",
    "After the ***Data Understanding*** phase done in this [notebook](1_Sparkify_Data_Understanding.ipynb), we are now going to define our target feature and then explore the dataset and plot some graphs to analyze the relations between features, distributions and so on."
   ]
  },
  {
   "cell_type": "markdown",
   "metadata": {},
   "source": [
    "## Import libraries, init Spark and load dataset"
   ]
  },
  {
   "cell_type": "code",
   "execution_count": 1,
   "metadata": {},
   "outputs": [],
   "source": [
    "import pyspark\n",
    "from pyspark.sql import SparkSession, Window\n",
    "\n",
    "from pyspark.sql.functions import udf, desc, isnan, when, count, col\n",
    "from pyspark.sql.functions import max as Fmax\n",
    "from pyspark.sql.types import IntegerType\n",
    "\n",
    "import numpy as np\n",
    "import pandas as pd\n",
    "import seaborn as sns\n",
    "import matplotlib.pyplot as plt\n",
    "\n",
    "from datetime import datetime\n",
    "import re\n",
    "\n",
    "%matplotlib inline"
   ]
  },
  {
   "cell_type": "code",
   "execution_count": 2,
   "metadata": {},
   "outputs": [
    {
     "data": {
      "text/plain": [
       "'2.4.3'"
      ]
     },
     "execution_count": 2,
     "metadata": {},
     "output_type": "execute_result"
    }
   ],
   "source": [
    "# It is useful to know the version we are using when reading the pyspark documentations\n",
    "pyspark.__version__"
   ]
  },
  {
   "cell_type": "code",
   "execution_count": 3,
   "metadata": {},
   "outputs": [],
   "source": [
    "# Create or retrieve a Spark session\n",
    "spark = SparkSession.builder.appName(\"dsnd-p7-sparkify\").getOrCreate()"
   ]
  },
  {
   "cell_type": "code",
   "execution_count": 4,
   "metadata": {},
   "outputs": [
    {
     "name": "stdout",
     "output_type": "stream",
     "text": [
      "+----------------+---------+---------+------+-------------+--------+---------+-----+--------------------+------+--------+-------------+---------+-----------------+------+-------------+--------------------+------+\n",
      "|          artist|     auth|firstName|gender|itemInSession|lastName|   length|level|            location|method|    page| registration|sessionId|             song|status|           ts|           userAgent|userId|\n",
      "+----------------+---------+---------+------+-------------+--------+---------+-----+--------------------+------+--------+-------------+---------+-----------------+------+-------------+--------------------+------+\n",
      "|  Martha Tilston|Logged In|    Colin|     M|           50| Freeman|277.89016| paid|     Bakersfield, CA|   PUT|NextSong|1538173362000|       29|        Rockpools|   200|1538352117000|Mozilla/5.0 (Wind...|    30|\n",
      "|Five Iron Frenzy|Logged In|    Micah|     M|           79|    Long|236.09424| free|Boston-Cambridge-...|   PUT|NextSong|1538331630000|        8|           Canada|   200|1538352180000|\"Mozilla/5.0 (Win...|     9|\n",
      "|    Adam Lambert|Logged In|    Colin|     M|           51| Freeman| 282.8273| paid|     Bakersfield, CA|   PUT|NextSong|1538173362000|       29|Time For Miracles|   200|1538352394000|Mozilla/5.0 (Wind...|    30|\n",
      "+----------------+---------+---------+------+-------------+--------+---------+-----+--------------------+------+--------+-------------+---------+-----------------+------+-------------+--------------------+------+\n",
      "only showing top 3 rows\n",
      "\n"
     ]
    }
   ],
   "source": [
    "df = spark.read.json(\"mini_sparkify_event_data.json\")\n",
    "df.show(3)"
   ]
  },
  {
   "cell_type": "code",
   "execution_count": 5,
   "metadata": {},
   "outputs": [
    {
     "name": "stdout",
     "output_type": "stream",
     "text": [
      "Loaded pyspark dataframe has shape (286500, 18)\n"
     ]
    }
   ],
   "source": [
    "print(\"Loaded pyspark dataframe has shape ({}, {})\".format(df.count(), len(df.columns)))"
   ]
  },
  {
   "cell_type": "markdown",
   "metadata": {},
   "source": [
    "---\n",
    "# DATA EXPLORATION\n",
    "# 1. Remove empty users\n",
    "We have seen in the previous notebook that we had 8346 users with an empty string as `userId` and missing value for `firstName`, `lastName` and so on. Let's remove those users.  \n",
    "So far in this dataset there are only case with empty string but who knows perhaps there are NaN in the bigger dataset so let's remove NaN as well:"
   ]
  },
  {
   "cell_type": "code",
   "execution_count": 6,
   "metadata": {},
   "outputs": [
    {
     "name": "stdout",
     "output_type": "stream",
     "text": [
      "Cleaned pyspark dataframe has now shape (278154, 18)\n"
     ]
    }
   ],
   "source": [
    "df_clean_users = df.filter((~(isnan(df['userId']))) & (df['userId'].isNotNull()) & (df['userId'] != \"\"))\n",
    "print(\"Cleaned pyspark dataframe has now shape ({}, {})\".format(df_clean_users.count(), len(df_clean_users.columns)))"
   ]
  },
  {
   "cell_type": "markdown",
   "metadata": {},
   "source": [
    "# 2. Build the `churn` target feature\n",
    "We have seen that users will be categorized as 'churn' once they have proceed with the `Cancellation confirmation` page.  \n",
    "In order to do that we will build a User-Defined Function that will be applied on the dataset:"
   ]
  },
  {
   "cell_type": "code",
   "execution_count": 7,
   "metadata": {},
   "outputs": [
    {
     "name": "stdout",
     "output_type": "stream",
     "text": [
      "Pyspark dataframe has now shape (278154, 19)\n"
     ]
    }
   ],
   "source": [
    "# Define the UDF (do not forget to precise type of column otherwise String is taken by default)\n",
    "user_has_churned = udf(lambda x: 1 if x == \"Cancellation Confirmation\" else 0, IntegerType())\n",
    "\n",
    "# Apply this function on a specific column of the whole dataset\n",
    "# (made with the help of: https://gist.github.com/zoltanctoth/2deccd69e3d1cde1dd78\n",
    "# and https://docs.databricks.com/spark/latest/spark-sql/udf-python.html)\n",
    "df_users_with_churn = df_clean_users.withColumn(\"churn\", user_has_churned(\"page\"))\n",
    "\n",
    "print(\"Pyspark dataframe has now shape ({}, {})\".format(df_users_with_churn.count(), len(df_users_with_churn.columns)))"
   ]
  },
  {
   "cell_type": "markdown",
   "metadata": {},
   "source": [
    "Okay we have now one feature more which is our target. Let's confirm that we have 52 users classified as 'churn':"
   ]
  },
  {
   "cell_type": "code",
   "execution_count": 8,
   "metadata": {},
   "outputs": [
    {
     "data": {
      "text/plain": [
       "52"
      ]
     },
     "execution_count": 8,
     "metadata": {},
     "output_type": "execute_result"
    }
   ],
   "source": [
    "df_users_with_churn.filter(df_users_with_churn['churn'] == 1).count()"
   ]
  },
  {
   "cell_type": "markdown",
   "metadata": {},
   "source": [
    "**That's good but not enough** because so far only rows corresponding to the 'Cancellation confirmation' event have a 1 in the `churn` column but what we want actually is to classify the user as a churn, meaning all his actions, so all the rows related to him.  \n",
    "For that we will use the **`Window`** pyspark functionality (more about Window [here](https://databricks.com/blog/2015/07/15/introducing-window-functions-in-spark-sql.html) or [there](https://knockdata.github.io/spark-window-function/)): we partition the data by `userId` and we apply on the column `churn` the max value for the user (so if the user has the event `Cancellation Confirmation` then there is a 1 in `churn` column so max is 1 and we put a 1 in `churn` for all his rows)."
   ]
  },
  {
   "cell_type": "code",
   "execution_count": 9,
   "metadata": {},
   "outputs": [],
   "source": [
    "df_users_with_churn_full = df_users_with_churn.withColumn(\"churn\", Fmax('churn').over(Window.partitionBy(\"userId\")))"
   ]
  },
  {
   "cell_type": "code",
   "execution_count": 10,
   "metadata": {},
   "outputs": [
    {
     "data": {
      "text/plain": [
       "44864"
      ]
     },
     "execution_count": 10,
     "metadata": {},
     "output_type": "execute_result"
    }
   ],
   "source": [
    "# How many rows does it represents?\n",
    "df_users_with_churn_full.filter(df_users_with_churn_full['churn'] == 1).count()"
   ]
  },
  {
   "cell_type": "code",
   "execution_count": 11,
   "metadata": {},
   "outputs": [
    {
     "data": {
      "text/plain": [
       "52"
      ]
     },
     "execution_count": 11,
     "metadata": {},
     "output_type": "execute_result"
    }
   ],
   "source": [
    "# Check that we are still talking about our 52 users\n",
    "df_users_with_churn_full.filter(df_users_with_churn_full['churn'] == 1).select('userId').dropDuplicates().count()"
   ]
  },
  {
   "cell_type": "markdown",
   "metadata": {},
   "source": [
    "# 3. Who are the churn users?\n",
    "In order to make some plot we have to convert our Spark DataFrame into pandas DataFrame so that we can use matplotlib and/or seaborn (see [this stackoverflow post](https://stackoverflow.com/questions/53105033/how-do-i-create-a-seaborn-line-plot-for-pyspark-dataframe)). It is mentionned that this operation can be very expensive so we have to ensure to collect only the needed rows."
   ]
  },
  {
   "cell_type": "markdown",
   "metadata": {},
   "source": [
    "## 3.1. `Gender` vs. churn"
   ]
  },
  {
   "cell_type": "code",
   "execution_count": 12,
   "metadata": {},
   "outputs": [],
   "source": [
    "# Convert to pandas only useful data\n",
    "df_gender_pandas = df_users_with_churn_full.select('userId', 'gender', 'churn').toPandas()"
   ]
  },
  {
   "cell_type": "code",
   "execution_count": 13,
   "metadata": {},
   "outputs": [
    {
     "data": {
      "text/plain": [
       "(278154, 3)"
      ]
     },
     "execution_count": 13,
     "metadata": {},
     "output_type": "execute_result"
    }
   ],
   "source": [
    "# Check shape to ensure we have right number of rows and our 3 columns\n",
    "df_gender_pandas.shape"
   ]
  },
  {
   "cell_type": "code",
   "execution_count": 14,
   "metadata": {},
   "outputs": [
    {
     "data": {
      "image/png": "[encoded data removed]",
      "text/plain": [
       "<matplotlib.figure.Figure at 0x7f288ec5ab38>"
      ]
     },
     "metadata": {
      "needs_background": "light"
     },
     "output_type": "display_data"
    }
   ],
   "source": [
    "the_data = df_gender_pandas.groupby(\"userId\")['gender', 'churn'].max()\n",
    "figure, axis = plt.subplots(1, 2, figsize=(10, 5))\n",
    "axis[0].set_title(\"Churn users count\")\n",
    "axis[1].set_title(\"Gender vs. churn\")\n",
    "sns.countplot(x=\"churn\", data=the_data, ax=axis[0])\n",
    "sns.countplot(x=\"gender\", hue=\"churn\", data=the_data, ax=axis[1])\n",
    "axis[0].set_xlabel(\"Churn status\")\n",
    "axis[0].set_ylabel(\"Number of users (unique)\")\n",
    "axis[1].set_xlabel(\"User Gender\")\n",
    "axis[1].set_ylabel(\"Number of users (unique)\")\n",
    "\n",
    "# Trick to display value on countplot graph\n",
    "for p in axis[1].patches:\n",
    "    _x = p.get_x() + p.get_width() / 2\n",
    "    _y = p.get_y() + p.get_height() + 1\n",
    "    value = '{}'.format(p.get_height())\n",
    "    axis[1].text(_x, _y, value, ha=\"center\")\n",
    "\n",
    "plt.show()"
   ]
  },
  {
   "cell_type": "code",
   "execution_count": 15,
   "metadata": {},
   "outputs": [
    {
     "name": "stdout",
     "output_type": "stream",
     "text": [
      "61.54% of churn users are Men - 26.45% of Men have churned (opposed to 19.23% for Women)\n"
     ]
    }
   ],
   "source": [
    "print(\"{:.2f}% of churn users are Men - {:.2f}% of Men have churned (opposed to {:.2f}% for Women)\".\n",
    "      format((100*32/52), (100*32/121), (100*20/104)))"
   ]
  },
  {
   "cell_type": "markdown",
   "metadata": {},
   "source": [
    "## 3.2. `Level` vs. churn"
   ]
  },
  {
   "cell_type": "code",
   "execution_count": 16,
   "metadata": {},
   "outputs": [],
   "source": [
    "df_level_pandas = df_users_with_churn_full.select('userId', 'level', 'churn').toPandas()"
   ]
  },
  {
   "cell_type": "code",
   "execution_count": 17,
   "metadata": {},
   "outputs": [
    {
     "data": {
      "image/png": "[encoded data removed]",
      "text/plain": [
       "<matplotlib.figure.Figure at 0x7f28820a4a20>"
      ]
     },
     "metadata": {
      "needs_background": "light"
     },
     "output_type": "display_data"
    }
   ],
   "source": [
    "figure, axis = plt.subplots(1, 1, figsize=(10, 5))\n",
    "axis.set_title(\"Subscription level vs. churn\")\n",
    "sns.countplot(x=\"level\", hue=\"churn\", data=df_level_pandas.groupby(\"userId\")['level', 'churn'].max(), ax=axis)\n",
    "axis.set_xlabel(\"Subscription level\")\n",
    "axis.set_ylabel(\"Number of users (unique)\")\n",
    "\n",
    "# Trick to display value on countplot graph\n",
    "for p in axis.patches:\n",
    "    _x = p.get_x() + p.get_width() / 2\n",
    "    _y = p.get_y() + p.get_height() + 1\n",
    "    value = '{}'.format(p.get_height())\n",
    "    axis.text(_x, _y, value, ha=\"center\")\n",
    "\n",
    "plt.show()"
   ]
  },
  {
   "cell_type": "code",
   "execution_count": 18,
   "metadata": {},
   "outputs": [
    {
     "name": "stdout",
     "output_type": "stream",
     "text": [
      "69.23% of churn users had a paid subscription level\n",
      "21.82% of people with paid subscription level have churned (opposed to 26.67% for free usage of the service)\n"
     ]
    }
   ],
   "source": [
    "print(\"{:.2f}% of churn users had a paid subscription level\".format(100*36/52))\n",
    "print(\"{:.2f}% of people with paid subscription level have churned (opposed to {:.2f}% for free usage of the service)\".format((100*36/165), (100*16/60)))"
   ]
  },
  {
   "cell_type": "markdown",
   "metadata": {},
   "source": [
    "## 3.3. `Registration`: for how long have they used the service?\n",
    "We have seen that the column `registration` refers to the date the user registered to the service, we can analyze for how long did the user tried the service before cancelling."
   ]
  },
  {
   "cell_type": "code",
   "execution_count": 19,
   "metadata": {},
   "outputs": [],
   "source": [
    "df_reg_pandas = df_users_with_churn_full.select('userId', 'registration', 'page', 'ts', 'churn').toPandas()\n",
    "df_reg_pandas['delta_in_days'] = df_reg_pandas.apply(lambda x: (datetime.fromtimestamp(x['ts']/1000) - datetime.fromtimestamp(x['registration']/1000)).days, axis=1)"
   ]
  },
  {
   "cell_type": "code",
   "execution_count": 20,
   "metadata": {},
   "outputs": [
    {
     "data": {
      "image/png": "[encoded data removed]",
      "text/plain": [
       "<matplotlib.figure.Figure at 0x7f28803c20b8>"
      ]
     },
     "metadata": {
      "needs_background": "light"
     },
     "output_type": "display_data"
    }
   ],
   "source": [
    "nb_days_service_use = df_reg_pandas.groupby('userId')['delta_in_days', 'churn'].max()\n",
    "\n",
    "figure, axis = plt.subplots(1, 1, figsize=(10, 5))\n",
    "axis.set_title(\"Distribution of the number of days service has been used before churn\")\n",
    "sns.distplot(a=nb_days_service_use[nb_days_service_use['churn'] == 1]['delta_in_days'], ax=axis, label=\"Churn\")\n",
    "sns.distplot(a=nb_days_service_use[nb_days_service_use['churn'] == 0]['delta_in_days'], ax=axis, label=\"No churn\")\n",
    "axis.set_xlabel(\"Number of days\")\n",
    "plt.legend(loc=\"best\")\n",
    "plt.show()"
   ]
  },
  {
   "cell_type": "markdown",
   "metadata": {},
   "source": [
    "***Observations:*** in this dataset, **churn users have less used the service**. Perhaps building a feature with the number of days since the registration could be something useful in the modeling part. Once this is said, we must remain cautious about that because, of course, as soon as the user quits this value stops (and that might explain why it is less for churn users).\n",
    "\n",
    "## 3.4. User engagement with the service\n",
    "Idea here is that the more a user interacted with the service (number of artists/songs listened, number of sessions, time spent listening) the more chances we have this user enjoys the service and then will not quit. Let's see if there are big differences between churn users and the others."
   ]
  },
  {
   "cell_type": "code",
   "execution_count": 26,
   "metadata": {},
   "outputs": [],
   "source": [
    "df_engage_pandas = df_users_with_churn_full.select('userId', 'artist', 'sessionId', 'song', 'length', 'churn').toPandas()"
   ]
  },
  {
   "cell_type": "code",
   "execution_count": 27,
   "metadata": {},
   "outputs": [],
   "source": [
    "artists_per_user = df_engage_pandas.groupby(['userId', 'churn'])['artist'].nunique().reset_index()\n",
    "songs_per_user = df_engage_pandas.groupby(['userId'])['song'].nunique().reset_index()\n",
    "time_listening_per_user = df_engage_pandas.groupby(['userId'])['length'].sum().reset_index()\n",
    "nb_sessions_per_user = df_engage_pandas.groupby(['userId'])['sessionId'].nunique().reset_index()\n",
    "\n",
    "# Merge all dataframes into a single one\n",
    "df_user_engagement = artists_per_user.merge(songs_per_user, on='userId').merge(time_listening_per_user, on='userId').merge(nb_sessions_per_user, on='userId')"
   ]
  },
  {
   "cell_type": "code",
   "execution_count": 29,
   "metadata": {},
   "outputs": [
    {
     "data": {
      "text/html": [
       "<div>\n",
       "<style scoped>\n",
       "    .dataframe tbody tr th:only-of-type {\n",
       "        vertical-align: middle;\n",
       "    }\n",
       "\n",
       "    .dataframe tbody tr th {\n",
       "        vertical-align: top;\n",
       "    }\n",
       "\n",
       "    .dataframe thead th {\n",
       "        text-align: right;\n",
       "    }\n",
       "</style>\n",
       "<table border=\"1\" class=\"dataframe\">\n",
       "  <thead>\n",
       "    <tr style=\"text-align: right;\">\n",
       "      <th></th>\n",
       "      <th>userId</th>\n",
       "      <th>churn</th>\n",
       "      <th>artist</th>\n",
       "      <th>song</th>\n",
       "      <th>length</th>\n",
       "      <th>sessionId</th>\n",
       "    </tr>\n",
       "  </thead>\n",
       "  <tbody>\n",
       "    <tr>\n",
       "      <th>0</th>\n",
       "      <td>10</td>\n",
       "      <td>0</td>\n",
       "      <td>565</td>\n",
       "      <td>629</td>\n",
       "      <td>166866.37251</td>\n",
       "      <td>6</td>\n",
       "    </tr>\n",
       "    <tr>\n",
       "      <th>1</th>\n",
       "      <td>100</td>\n",
       "      <td>0</td>\n",
       "      <td>1705</td>\n",
       "      <td>2302</td>\n",
       "      <td>672877.85659</td>\n",
       "      <td>35</td>\n",
       "    </tr>\n",
       "    <tr>\n",
       "      <th>2</th>\n",
       "      <td>100001</td>\n",
       "      <td>1</td>\n",
       "      <td>125</td>\n",
       "      <td>129</td>\n",
       "      <td>35073.74215</td>\n",
       "      <td>4</td>\n",
       "    </tr>\n",
       "    <tr>\n",
       "      <th>3</th>\n",
       "      <td>100002</td>\n",
       "      <td>0</td>\n",
       "      <td>184</td>\n",
       "      <td>193</td>\n",
       "      <td>49559.91810</td>\n",
       "      <td>4</td>\n",
       "    </tr>\n",
       "    <tr>\n",
       "      <th>4</th>\n",
       "      <td>100003</td>\n",
       "      <td>1</td>\n",
       "      <td>50</td>\n",
       "      <td>51</td>\n",
       "      <td>12306.41932</td>\n",
       "      <td>2</td>\n",
       "    </tr>\n",
       "    <tr>\n",
       "      <th>5</th>\n",
       "      <td>100004</td>\n",
       "      <td>0</td>\n",
       "      <td>733</td>\n",
       "      <td>881</td>\n",
       "      <td>231480.38929</td>\n",
       "      <td>21</td>\n",
       "    </tr>\n",
       "    <tr>\n",
       "      <th>6</th>\n",
       "      <td>100005</td>\n",
       "      <td>1</td>\n",
       "      <td>149</td>\n",
       "      <td>153</td>\n",
       "      <td>37037.12201</td>\n",
       "      <td>5</td>\n",
       "    </tr>\n",
       "    <tr>\n",
       "      <th>7</th>\n",
       "      <td>100006</td>\n",
       "      <td>1</td>\n",
       "      <td>26</td>\n",
       "      <td>26</td>\n",
       "      <td>5854.89105</td>\n",
       "      <td>1</td>\n",
       "    </tr>\n",
       "    <tr>\n",
       "      <th>8</th>\n",
       "      <td>100007</td>\n",
       "      <td>1</td>\n",
       "      <td>357</td>\n",
       "      <td>408</td>\n",
       "      <td>104495.32492</td>\n",
       "      <td>9</td>\n",
       "    </tr>\n",
       "    <tr>\n",
       "      <th>9</th>\n",
       "      <td>100008</td>\n",
       "      <td>0</td>\n",
       "      <td>623</td>\n",
       "      <td>723</td>\n",
       "      <td>191396.79602</td>\n",
       "      <td>6</td>\n",
       "    </tr>\n",
       "    <tr>\n",
       "      <th>10</th>\n",
       "      <td>100009</td>\n",
       "      <td>1</td>\n",
       "      <td>442</td>\n",
       "      <td>501</td>\n",
       "      <td>129745.78968</td>\n",
       "      <td>10</td>\n",
       "    </tr>\n",
       "    <tr>\n",
       "      <th>11</th>\n",
       "      <td>100010</td>\n",
       "      <td>0</td>\n",
       "      <td>252</td>\n",
       "      <td>269</td>\n",
       "      <td>66940.89735</td>\n",
       "      <td>7</td>\n",
       "    </tr>\n",
       "    <tr>\n",
       "      <th>12</th>\n",
       "      <td>100011</td>\n",
       "      <td>1</td>\n",
       "      <td>11</td>\n",
       "      <td>11</td>\n",
       "      <td>2841.69950</td>\n",
       "      <td>1</td>\n",
       "    </tr>\n",
       "    <tr>\n",
       "      <th>13</th>\n",
       "      <td>100012</td>\n",
       "      <td>1</td>\n",
       "      <td>397</td>\n",
       "      <td>453</td>\n",
       "      <td>115503.35311</td>\n",
       "      <td>7</td>\n",
       "    </tr>\n",
       "    <tr>\n",
       "      <th>14</th>\n",
       "      <td>100013</td>\n",
       "      <td>1</td>\n",
       "      <td>826</td>\n",
       "      <td>1041</td>\n",
       "      <td>280391.79411</td>\n",
       "      <td>14</td>\n",
       "    </tr>\n",
       "    <tr>\n",
       "      <th>15</th>\n",
       "      <td>100014</td>\n",
       "      <td>1</td>\n",
       "      <td>233</td>\n",
       "      <td>248</td>\n",
       "      <td>67703.47208</td>\n",
       "      <td>6</td>\n",
       "    </tr>\n",
       "    <tr>\n",
       "      <th>16</th>\n",
       "      <td>100015</td>\n",
       "      <td>1</td>\n",
       "      <td>627</td>\n",
       "      <td>755</td>\n",
       "      <td>194617.91655</td>\n",
       "      <td>12</td>\n",
       "    </tr>\n",
       "    <tr>\n",
       "      <th>17</th>\n",
       "      <td>100016</td>\n",
       "      <td>0</td>\n",
       "      <td>431</td>\n",
       "      <td>493</td>\n",
       "      <td>129376.75234</td>\n",
       "      <td>8</td>\n",
       "    </tr>\n",
       "    <tr>\n",
       "      <th>18</th>\n",
       "      <td>100017</td>\n",
       "      <td>1</td>\n",
       "      <td>51</td>\n",
       "      <td>51</td>\n",
       "      <td>12261.72340</td>\n",
       "      <td>1</td>\n",
       "    </tr>\n",
       "    <tr>\n",
       "      <th>19</th>\n",
       "      <td>100018</td>\n",
       "      <td>0</td>\n",
       "      <td>780</td>\n",
       "      <td>942</td>\n",
       "      <td>248530.32763</td>\n",
       "      <td>21</td>\n",
       "    </tr>\n",
       "  </tbody>\n",
       "</table>\n",
       "</div>"
      ],
      "text/plain": [
       "    userId  churn  artist  song        length  sessionId\n",
       "0       10      0     565   629  166866.37251          6\n",
       "1      100      0    1705  2302  672877.85659         35\n",
       "2   100001      1     125   129   35073.74215          4\n",
       "3   100002      0     184   193   49559.91810          4\n",
       "4   100003      1      50    51   12306.41932          2\n",
       "5   100004      0     733   881  231480.38929         21\n",
       "6   100005      1     149   153   37037.12201          5\n",
       "7   100006      1      26    26    5854.89105          1\n",
       "8   100007      1     357   408  104495.32492          9\n",
       "9   100008      0     623   723  191396.79602          6\n",
       "10  100009      1     442   501  129745.78968         10\n",
       "11  100010      0     252   269   66940.89735          7\n",
       "12  100011      1      11    11    2841.69950          1\n",
       "13  100012      1     397   453  115503.35311          7\n",
       "14  100013      1     826  1041  280391.79411         14\n",
       "15  100014      1     233   248   67703.47208          6\n",
       "16  100015      1     627   755  194617.91655         12\n",
       "17  100016      0     431   493  129376.75234          8\n",
       "18  100017      1      51    51   12261.72340          1\n",
       "19  100018      0     780   942  248530.32763         21"
      ]
     },
     "execution_count": 29,
     "metadata": {},
     "output_type": "execute_result"
    }
   ],
   "source": [
    "df_user_engagement.head(20)"
   ]
  },
  {
   "cell_type": "code",
   "execution_count": 14,
   "metadata": {},
   "outputs": [
    {
     "data": {
      "text/html": [
       "<div>\n",
       "<style scoped>\n",
       "    .dataframe tbody tr th:only-of-type {\n",
       "        vertical-align: middle;\n",
       "    }\n",
       "\n",
       "    .dataframe tbody tr th {\n",
       "        vertical-align: top;\n",
       "    }\n",
       "\n",
       "    .dataframe thead th {\n",
       "        text-align: right;\n",
       "    }\n",
       "</style>\n",
       "<table border=\"1\" class=\"dataframe\">\n",
       "  <thead>\n",
       "    <tr style=\"text-align: right;\">\n",
       "      <th></th>\n",
       "      <th>churn</th>\n",
       "      <th>artist</th>\n",
       "      <th>song</th>\n",
       "      <th>length</th>\n",
       "      <th>sessionId</th>\n",
       "    </tr>\n",
       "  </thead>\n",
       "  <tbody>\n",
       "    <tr>\n",
       "      <th>count</th>\n",
       "      <td>225.000000</td>\n",
       "      <td>225.000000</td>\n",
       "      <td>225.000000</td>\n",
       "      <td>2.250000e+02</td>\n",
       "      <td>225.000000</td>\n",
       "    </tr>\n",
       "    <tr>\n",
       "      <th>mean</th>\n",
       "      <td>0.231111</td>\n",
       "      <td>696.377778</td>\n",
       "      <td>897.791111</td>\n",
       "      <td>2.525583e+05</td>\n",
       "      <td>14.115556</td>\n",
       "    </tr>\n",
       "    <tr>\n",
       "      <th>std</th>\n",
       "      <td>0.422483</td>\n",
       "      <td>603.951870</td>\n",
       "      <td>896.387604</td>\n",
       "      <td>2.753964e+05</td>\n",
       "      <td>14.646885</td>\n",
       "    </tr>\n",
       "    <tr>\n",
       "      <th>min</th>\n",
       "      <td>0.000000</td>\n",
       "      <td>3.000000</td>\n",
       "      <td>3.000000</td>\n",
       "      <td>6.916688e+02</td>\n",
       "      <td>1.000000</td>\n",
       "    </tr>\n",
       "    <tr>\n",
       "      <th>25%</th>\n",
       "      <td>0.000000</td>\n",
       "      <td>207.000000</td>\n",
       "      <td>226.000000</td>\n",
       "      <td>5.763318e+04</td>\n",
       "      <td>6.000000</td>\n",
       "    </tr>\n",
       "    <tr>\n",
       "      <th>50%</th>\n",
       "      <td>0.000000</td>\n",
       "      <td>555.000000</td>\n",
       "      <td>634.000000</td>\n",
       "      <td>1.680938e+05</td>\n",
       "      <td>10.000000</td>\n",
       "    </tr>\n",
       "    <tr>\n",
       "      <th>75%</th>\n",
       "      <td>0.000000</td>\n",
       "      <td>1098.000000</td>\n",
       "      <td>1420.000000</td>\n",
       "      <td>3.924015e+05</td>\n",
       "      <td>18.000000</td>\n",
       "    </tr>\n",
       "    <tr>\n",
       "      <th>max</th>\n",
       "      <td>1.000000</td>\n",
       "      <td>3544.000000</td>\n",
       "      <td>5946.000000</td>\n",
       "      <td>1.991155e+06</td>\n",
       "      <td>107.000000</td>\n",
       "    </tr>\n",
       "  </tbody>\n",
       "</table>\n",
       "</div>"
      ],
      "text/plain": [
       "            churn       artist         song        length   sessionId\n",
       "count  225.000000   225.000000   225.000000  2.250000e+02  225.000000\n",
       "mean     0.231111   696.377778   897.791111  2.525583e+05   14.115556\n",
       "std      0.422483   603.951870   896.387604  2.753964e+05   14.646885\n",
       "min      0.000000     3.000000     3.000000  6.916688e+02    1.000000\n",
       "25%      0.000000   207.000000   226.000000  5.763318e+04    6.000000\n",
       "50%      0.000000   555.000000   634.000000  1.680938e+05   10.000000\n",
       "75%      0.000000  1098.000000  1420.000000  3.924015e+05   18.000000\n",
       "max      1.000000  3544.000000  5946.000000  1.991155e+06  107.000000"
      ]
     },
     "execution_count": 14,
     "metadata": {},
     "output_type": "execute_result"
    }
   ],
   "source": [
    "df_user_engagement.describe()"
   ]
  },
  {
   "cell_type": "code",
   "execution_count": 18,
   "metadata": {},
   "outputs": [
    {
     "data": {
      "image/png": "[encoded data removed]",
      "text/plain": [
       "<matplotlib.figure.Figure at 0x7f6ffbe32780>"
      ]
     },
     "metadata": {
      "needs_background": "light"
     },
     "output_type": "display_data"
    }
   ],
   "source": [
    "figure, axis = plt.subplots(2, 2, figsize=(15, 10))\n",
    "axis[0][0].set_title(\"How many artists were listened to by users (churn vs. others)?\")\n",
    "axis[0][1].set_title(\"How many songs were listened to by users (churn vs. others)?\")\n",
    "axis[1][0].set_title(\"How many sessions per user (churn vs. others)?\")\n",
    "axis[1][1].set_title(\"Total length of listening time per user (churn vs. others)?\")\n",
    "\n",
    "sns.boxplot(x='artist', y='churn', data=df_user_engagement, ax=axis[0][0], orient=\"h\")\n",
    "sns.boxplot(x='song', y='churn', data=df_user_engagement, ax=axis[0][1], orient=\"h\")\n",
    "sns.boxplot(x='sessionId', y='churn', data=df_user_engagement, ax=axis[1][0], orient=\"h\")\n",
    "sns.boxplot(x='length', y='churn', data=df_user_engagement, ax=axis[1][1], orient=\"h\")\n",
    "\n",
    "axis[0][0].set_ylabel(\"User churn status (1=churn)\")\n",
    "axis[0][1].set_ylabel(\"User churn status (1=churn)\")\n",
    "axis[1][0].set_ylabel(\"User churn status (1=churn)\")\n",
    "axis[1][1].set_ylabel(\"User churn status (1=churn)\")\n",
    "axis[0][0].set_xlabel(\"Number of different artists listened\")\n",
    "axis[0][1].set_xlabel(\"Number of different songs listened\")\n",
    "axis[1][0].set_xlabel(\"Number of different sessions per user\")\n",
    "axis[1][1].set_xlabel(\"Total listening time in seconds\")\n",
    "\n",
    "plt.legend(loc=\"best\")\n",
    "plt.show()"
   ]
  },
  {
   "cell_type": "markdown",
   "metadata": {},
   "source": [
    "***Observations:***\n",
    "* **churn users have listened to less unique artists and songs**. It can means that they are less connected with the service but those figures can also be explained because churn users have stopped using the service so the \"counter\" has stop as well\n",
    "* **churn users used less the service** (this is seen in the difference of the distribution of the number of different sessions per user)\n",
    "* in the end, kind of correlated to the number of artists/songs listened, **the total time of listening is far less for churn users** (explained by the 3 previous measures: less connections, less songs listened = less total time)\n",
    "* note: we could also add the number of times a song/artist has been added to playlist\n",
    "\n",
    "## 3.5. Social interactions\n",
    "Kind of the same idea: how many friends did the user add? How many `Thumbs up` or `Thumbs down`? Could it be a clue to detect incoming churn?"
   ]
  },
  {
   "cell_type": "code",
   "execution_count": 12,
   "metadata": {},
   "outputs": [],
   "source": [
    "df_social_pandas = df_users_with_churn_full.select('userId', 'page', 'churn').toPandas()"
   ]
  },
  {
   "cell_type": "code",
   "execution_count": 13,
   "metadata": {},
   "outputs": [
    {
     "data": {
      "text/plain": [
       "array(['NextSong', 'Thumbs Up', 'Roll Advert', 'Home', 'Logout',\n",
       "       'Add to Playlist', 'Help', 'Add Friend', 'Thumbs Down', 'Upgrade',\n",
       "       'About', 'Settings', 'Submit Upgrade', 'Downgrade', 'Cancel',\n",
       "       'Cancellation Confirmation', 'Error', 'Save Settings',\n",
       "       'Submit Downgrade'], dtype=object)"
      ]
     },
     "execution_count": 13,
     "metadata": {},
     "output_type": "execute_result"
    }
   ],
   "source": [
    "df_social_pandas.page.unique()"
   ]
  },
  {
   "cell_type": "code",
   "execution_count": 14,
   "metadata": {},
   "outputs": [],
   "source": [
    "# Gather all information we are interested in by filtering on page type\n",
    "df_add_friend = df_social_pandas[df_social_pandas['page'] == 'Add Friend'].groupby(['userId']).page.count().reset_index()\n",
    "df_add_friend.columns = ['userId', 'nb_add_friend']\n",
    "\n",
    "df_thumbs_up = df_social_pandas[df_social_pandas['page'] == 'Thumbs Up'].groupby(['userId']).page.count().reset_index()\n",
    "df_thumbs_up.columns = ['userId', 'thumbs_up']\n",
    "\n",
    "df_thumbs_down = df_social_pandas[df_social_pandas['page'] == 'Thumbs Down'].groupby(['userId']).page.count().reset_index()\n",
    "df_thumbs_down.columns = ['userId', 'thumbs_down']\n",
    "\n",
    "df_ads = df_social_pandas[df_social_pandas['page'] == 'Roll Advert'].groupby(['userId']).page.count().reset_index()\n",
    "df_ads.columns = ['userId', 'ads']\n",
    "\n",
    "# And then merge everything and replace NaN (due to left-join strategy to keep all users) with 0\n",
    "df_social_data = df_social_pandas.groupby(['userId']).churn.max().reset_index()\n",
    "df_social_data = df_social_data.merge(df_add_friend, on='userId', how='left').merge(df_thumbs_up, on='userId', how='left')\n",
    "df_social_data = df_social_data.merge(df_thumbs_down, on='userId', how='left').merge(df_ads, on='userId', how='left')\n",
    "df_social_data = df_social_data.fillna(0)"
   ]
  },
  {
   "cell_type": "code",
   "execution_count": 15,
   "metadata": {},
   "outputs": [
    {
     "data": {
      "text/html": [
       "<div>\n",
       "<style scoped>\n",
       "    .dataframe tbody tr th:only-of-type {\n",
       "        vertical-align: middle;\n",
       "    }\n",
       "\n",
       "    .dataframe tbody tr th {\n",
       "        vertical-align: top;\n",
       "    }\n",
       "\n",
       "    .dataframe thead th {\n",
       "        text-align: right;\n",
       "    }\n",
       "</style>\n",
       "<table border=\"1\" class=\"dataframe\">\n",
       "  <thead>\n",
       "    <tr style=\"text-align: right;\">\n",
       "      <th></th>\n",
       "      <th>userId</th>\n",
       "      <th>churn</th>\n",
       "      <th>nb_add_friend</th>\n",
       "      <th>thumbs_up</th>\n",
       "      <th>thumbs_down</th>\n",
       "      <th>ads</th>\n",
       "    </tr>\n",
       "  </thead>\n",
       "  <tbody>\n",
       "    <tr>\n",
       "      <th>0</th>\n",
       "      <td>10</td>\n",
       "      <td>0</td>\n",
       "      <td>12.0</td>\n",
       "      <td>37.0</td>\n",
       "      <td>4.0</td>\n",
       "      <td>1.0</td>\n",
       "    </tr>\n",
       "    <tr>\n",
       "      <th>1</th>\n",
       "      <td>100</td>\n",
       "      <td>0</td>\n",
       "      <td>49.0</td>\n",
       "      <td>148.0</td>\n",
       "      <td>27.0</td>\n",
       "      <td>25.0</td>\n",
       "    </tr>\n",
       "    <tr>\n",
       "      <th>2</th>\n",
       "      <td>100001</td>\n",
       "      <td>1</td>\n",
       "      <td>2.0</td>\n",
       "      <td>8.0</td>\n",
       "      <td>2.0</td>\n",
       "      <td>14.0</td>\n",
       "    </tr>\n",
       "    <tr>\n",
       "      <th>3</th>\n",
       "      <td>100002</td>\n",
       "      <td>0</td>\n",
       "      <td>1.0</td>\n",
       "      <td>5.0</td>\n",
       "      <td>0.0</td>\n",
       "      <td>3.0</td>\n",
       "    </tr>\n",
       "    <tr>\n",
       "      <th>4</th>\n",
       "      <td>100003</td>\n",
       "      <td>1</td>\n",
       "      <td>0.0</td>\n",
       "      <td>3.0</td>\n",
       "      <td>0.0</td>\n",
       "      <td>9.0</td>\n",
       "    </tr>\n",
       "    <tr>\n",
       "      <th>5</th>\n",
       "      <td>100004</td>\n",
       "      <td>0</td>\n",
       "      <td>19.0</td>\n",
       "      <td>35.0</td>\n",
       "      <td>11.0</td>\n",
       "      <td>86.0</td>\n",
       "    </tr>\n",
       "    <tr>\n",
       "      <th>6</th>\n",
       "      <td>100005</td>\n",
       "      <td>1</td>\n",
       "      <td>3.0</td>\n",
       "      <td>7.0</td>\n",
       "      <td>3.0</td>\n",
       "      <td>18.0</td>\n",
       "    </tr>\n",
       "    <tr>\n",
       "      <th>7</th>\n",
       "      <td>100006</td>\n",
       "      <td>1</td>\n",
       "      <td>4.0</td>\n",
       "      <td>2.0</td>\n",
       "      <td>2.0</td>\n",
       "      <td>3.0</td>\n",
       "    </tr>\n",
       "    <tr>\n",
       "      <th>8</th>\n",
       "      <td>100007</td>\n",
       "      <td>1</td>\n",
       "      <td>17.0</td>\n",
       "      <td>19.0</td>\n",
       "      <td>6.0</td>\n",
       "      <td>5.0</td>\n",
       "    </tr>\n",
       "    <tr>\n",
       "      <th>9</th>\n",
       "      <td>100008</td>\n",
       "      <td>0</td>\n",
       "      <td>17.0</td>\n",
       "      <td>37.0</td>\n",
       "      <td>6.0</td>\n",
       "      <td>20.0</td>\n",
       "    </tr>\n",
       "  </tbody>\n",
       "</table>\n",
       "</div>"
      ],
      "text/plain": [
       "   userId  churn  nb_add_friend  thumbs_up  thumbs_down   ads\n",
       "0      10      0           12.0       37.0          4.0   1.0\n",
       "1     100      0           49.0      148.0         27.0  25.0\n",
       "2  100001      1            2.0        8.0          2.0  14.0\n",
       "3  100002      0            1.0        5.0          0.0   3.0\n",
       "4  100003      1            0.0        3.0          0.0   9.0\n",
       "5  100004      0           19.0       35.0         11.0  86.0\n",
       "6  100005      1            3.0        7.0          3.0  18.0\n",
       "7  100006      1            4.0        2.0          2.0   3.0\n",
       "8  100007      1           17.0       19.0          6.0   5.0\n",
       "9  100008      0           17.0       37.0          6.0  20.0"
      ]
     },
     "execution_count": 15,
     "metadata": {},
     "output_type": "execute_result"
    }
   ],
   "source": [
    "df_social_data.head(10)"
   ]
  },
  {
   "cell_type": "code",
   "execution_count": 28,
   "metadata": {},
   "outputs": [
    {
     "data": {
      "image/png": "[encoded data removed]",
      "text/plain": [
       "<matplotlib.figure.Figure at 0x7f8120b65908>"
      ]
     },
     "metadata": {
      "needs_background": "light"
     },
     "output_type": "display_data"
    }
   ],
   "source": [
    "figure, axis = plt.subplots(2, 2, figsize=(15, 10))\n",
    "axis[0][0].set_title(\"How many friends were added by users (churn vs. others)?\")\n",
    "axis[0][1].set_title(\"How many thumbs up given by users (churn vs. others)?\")\n",
    "axis[1][0].set_title(\"How many thumbs down given per user (churn vs. others)?\")\n",
    "axis[1][1].set_title(\"How many ads per user (churn vs. others)?\")\n",
    "\n",
    "sns.boxplot(x='nb_add_friend', y='churn', data=df_social_data, ax=axis[0][0], orient=\"h\")\n",
    "sns.boxplot(x='thumbs_up', y='churn', data=df_social_data, ax=axis[0][1], orient=\"h\")\n",
    "sns.boxplot(x='thumbs_down', y='churn', data=df_social_data, ax=axis[1][0], orient=\"h\")\n",
    "sns.boxplot(x='ads', y='churn', data=df_social_data, ax=axis[1][1], orient=\"h\")\n",
    "\n",
    "axis[0][0].set_ylabel(\"User churn status (1=churn)\")\n",
    "axis[0][1].set_ylabel(\"User churn status (1=churn)\")\n",
    "axis[1][0].set_ylabel(\"User churn status (1=churn)\")\n",
    "axis[1][1].set_ylabel(\"User churn status (1=churn)\")\n",
    "axis[0][0].set_xlabel(\"Number of friends added\")\n",
    "axis[0][1].set_xlabel(\"Number of thumbs up given\")\n",
    "axis[1][0].set_xlabel(\"Number of thumbs down given\")\n",
    "axis[1][1].set_xlabel(\"Number of ads rolled\")\n",
    "\n",
    "plt.legend(loc=\"best\")\n",
    "plt.show()"
   ]
  },
  {
   "cell_type": "markdown",
   "metadata": {},
   "source": [
    "***Observations:***\n",
    "* As imagined, there were **less 'positive social interactions' (add a friend, give a like) with the app for churn users.**\n",
    "* On the other side, the distribution for 'negative social interactions' (dislike/thumbs down) are quite close from each other. That could mean that the recommendations (for example) were not so good and the user gave a thumbs down. Maybe.\n",
    "* The last one has to be taken with caution because users with a \"paid\" subscription are listening less (and even no) ads. Though, we can observe that **churn users have rolled ads more than the others**. Perhaps they cancelled due to the amount of ads. Maybe. Again.\n",
    "\n",
    "## 3.6. `Upgrade/Downgrade`, is there an impact?\n",
    "While having a look at the different pages, I noticed 2 kind of pages that could be interesting ones: `Upgrade` and `Downgrade`. Intuition here is to say that if user has upgraded the service he is now more engaged whereas, on the other side, the \"downgrade\" step could be the first step towards the churn.  \n",
    "Let's try to see if this is correct."
   ]
  },
  {
   "cell_type": "code",
   "execution_count": 38,
   "metadata": {},
   "outputs": [],
   "source": [
    "# Collect what we need\n",
    "df_upgraded = df_social_pandas[df_social_pandas['page'] == 'Upgrade'].groupby(['userId']).page.count().reset_index()\n",
    "df_downgraded = df_social_pandas[df_social_pandas['page'] == 'Downgrade'].groupby(['userId']).page.count().reset_index()\n",
    "df_upgraded.columns = ['userId', 'think_upgrade']\n",
    "df_downgraded.columns = ['userId', 'think_downgrade']\n",
    "\n",
    "df_upgraded_real = df_social_pandas[df_social_pandas['page'] == 'Submit Upgrade'].groupby(['userId']).page.count().reset_index()\n",
    "df_downgraded_real = df_social_pandas[df_social_pandas['page'] == 'Submit Downgrade'].groupby(['userId']).page.count().reset_index()\n",
    "df_upgraded_real.columns = ['userId', 'has_upgraded']\n",
    "df_downgraded_real.columns = ['userId', 'has_downgraded']"
   ]
  },
  {
   "cell_type": "code",
   "execution_count": 39,
   "metadata": {},
   "outputs": [],
   "source": [
    "# And then merge everything and replace NaN (due to left-join strategy to keep all users) with 0\n",
    "df_up_down = df_social_pandas.groupby(['userId']).churn.max().reset_index()\n",
    "df_up_down = df_up_down.merge(df_upgraded, on='userId', how='left').merge(df_downgraded, on='userId', how='left')\n",
    "df_up_down = df_up_down.merge(df_upgraded_real, on='userId', how='left').merge(df_downgraded_real, on='userId', how='left')\n",
    "df_up_down = df_up_down.fillna(0)"
   ]
  },
  {
   "cell_type": "code",
   "execution_count": 40,
   "metadata": {},
   "outputs": [
    {
     "data": {
      "text/html": [
       "<div>\n",
       "<style scoped>\n",
       "    .dataframe tbody tr th:only-of-type {\n",
       "        vertical-align: middle;\n",
       "    }\n",
       "\n",
       "    .dataframe tbody tr th {\n",
       "        vertical-align: top;\n",
       "    }\n",
       "\n",
       "    .dataframe thead th {\n",
       "        text-align: right;\n",
       "    }\n",
       "</style>\n",
       "<table border=\"1\" class=\"dataframe\">\n",
       "  <thead>\n",
       "    <tr style=\"text-align: right;\">\n",
       "      <th></th>\n",
       "      <th>userId</th>\n",
       "      <th>churn</th>\n",
       "      <th>think_upgrade</th>\n",
       "      <th>think_downgrade</th>\n",
       "      <th>has_upgraded</th>\n",
       "      <th>has_downgraded</th>\n",
       "    </tr>\n",
       "  </thead>\n",
       "  <tbody>\n",
       "    <tr>\n",
       "      <th>0</th>\n",
       "      <td>10</td>\n",
       "      <td>0</td>\n",
       "      <td>0.0</td>\n",
       "      <td>7.0</td>\n",
       "      <td>0.0</td>\n",
       "      <td>0.0</td>\n",
       "    </tr>\n",
       "    <tr>\n",
       "      <th>1</th>\n",
       "      <td>100</td>\n",
       "      <td>0</td>\n",
       "      <td>1.0</td>\n",
       "      <td>30.0</td>\n",
       "      <td>1.0</td>\n",
       "      <td>1.0</td>\n",
       "    </tr>\n",
       "    <tr>\n",
       "      <th>2</th>\n",
       "      <td>100001</td>\n",
       "      <td>1</td>\n",
       "      <td>2.0</td>\n",
       "      <td>0.0</td>\n",
       "      <td>0.0</td>\n",
       "      <td>0.0</td>\n",
       "    </tr>\n",
       "    <tr>\n",
       "      <th>3</th>\n",
       "      <td>100002</td>\n",
       "      <td>0</td>\n",
       "      <td>0.0</td>\n",
       "      <td>2.0</td>\n",
       "      <td>0.0</td>\n",
       "      <td>0.0</td>\n",
       "    </tr>\n",
       "    <tr>\n",
       "      <th>4</th>\n",
       "      <td>100003</td>\n",
       "      <td>1</td>\n",
       "      <td>0.0</td>\n",
       "      <td>0.0</td>\n",
       "      <td>0.0</td>\n",
       "      <td>0.0</td>\n",
       "    </tr>\n",
       "    <tr>\n",
       "      <th>5</th>\n",
       "      <td>100004</td>\n",
       "      <td>0</td>\n",
       "      <td>8.0</td>\n",
       "      <td>10.0</td>\n",
       "      <td>3.0</td>\n",
       "      <td>2.0</td>\n",
       "    </tr>\n",
       "    <tr>\n",
       "      <th>6</th>\n",
       "      <td>100005</td>\n",
       "      <td>1</td>\n",
       "      <td>4.0</td>\n",
       "      <td>0.0</td>\n",
       "      <td>0.0</td>\n",
       "      <td>0.0</td>\n",
       "    </tr>\n",
       "    <tr>\n",
       "      <th>7</th>\n",
       "      <td>100006</td>\n",
       "      <td>1</td>\n",
       "      <td>0.0</td>\n",
       "      <td>0.0</td>\n",
       "      <td>0.0</td>\n",
       "      <td>0.0</td>\n",
       "    </tr>\n",
       "    <tr>\n",
       "      <th>8</th>\n",
       "      <td>100007</td>\n",
       "      <td>1</td>\n",
       "      <td>0.0</td>\n",
       "      <td>7.0</td>\n",
       "      <td>0.0</td>\n",
       "      <td>0.0</td>\n",
       "    </tr>\n",
       "    <tr>\n",
       "      <th>9</th>\n",
       "      <td>100008</td>\n",
       "      <td>0</td>\n",
       "      <td>4.0</td>\n",
       "      <td>10.0</td>\n",
       "      <td>0.0</td>\n",
       "      <td>1.0</td>\n",
       "    </tr>\n",
       "  </tbody>\n",
       "</table>\n",
       "</div>"
      ],
      "text/plain": [
       "   userId  churn  think_upgrade  think_downgrade  has_upgraded  has_downgraded\n",
       "0      10      0            0.0              7.0           0.0             0.0\n",
       "1     100      0            1.0             30.0           1.0             1.0\n",
       "2  100001      1            2.0              0.0           0.0             0.0\n",
       "3  100002      0            0.0              2.0           0.0             0.0\n",
       "4  100003      1            0.0              0.0           0.0             0.0\n",
       "5  100004      0            8.0             10.0           3.0             2.0\n",
       "6  100005      1            4.0              0.0           0.0             0.0\n",
       "7  100006      1            0.0              0.0           0.0             0.0\n",
       "8  100007      1            0.0              7.0           0.0             0.0\n",
       "9  100008      0            4.0             10.0           0.0             1.0"
      ]
     },
     "execution_count": 40,
     "metadata": {},
     "output_type": "execute_result"
    }
   ],
   "source": [
    "df_up_down.head(10)"
   ]
  },
  {
   "cell_type": "code",
   "execution_count": 44,
   "metadata": {},
   "outputs": [
    {
     "data": {
      "image/png": "[encoded data removed]",
      "text/plain": [
       "<matplotlib.figure.Figure at 0x7f811aa3e630>"
      ]
     },
     "metadata": {
      "needs_background": "light"
     },
     "output_type": "display_data"
    }
   ],
   "source": [
    "figure, axis = plt.subplots(2, 2, figsize=(15, 10))\n",
    "axis[0][0].set_title(\"How many times users thought about upgrading (churn vs. others)?\")\n",
    "axis[0][1].set_title(\"How many times did user really upgrade (churn vs. others)?\")\n",
    "axis[1][0].set_title(\"How many times users thought about downgrading (churn vs. others)?\")\n",
    "axis[1][1].set_title(\"How many times did user really downgrade (churn vs. others)?\")\n",
    "\n",
    "sns.boxplot(x='think_upgrade', y='churn', data=df_up_down, ax=axis[0][0], orient=\"h\")\n",
    "sns.countplot(x='has_upgraded', hue='churn', data=df_up_down, ax=axis[0][1], orient=\"h\")\n",
    "sns.boxplot(x='think_downgrade', y='churn', data=df_up_down, ax=axis[1][0], orient=\"h\")\n",
    "sns.countplot(x='has_downgraded', hue='churn', data=df_up_down, ax=axis[1][1], orient=\"h\")\n",
    "\n",
    "axis[0][0].set_ylabel(\"User churn status (1=churn)\")\n",
    "axis[0][1].set_ylabel(\"User churn status (1=churn)\")\n",
    "axis[1][0].set_ylabel(\"User churn status (1=churn)\")\n",
    "axis[1][1].set_ylabel(\"User churn status (1=churn)\")\n",
    "axis[0][0].set_xlabel(\"Number of times\")\n",
    "axis[0][1].set_xlabel(\"Number of times\")\n",
    "axis[1][0].set_xlabel(\"Number of times\")\n",
    "axis[1][1].set_xlabel(\"Number of times\")\n",
    "\n",
    "plt.legend(loc=\"best\")\n",
    "plt.show()"
   ]
  },
  {
   "cell_type": "markdown",
   "metadata": {},
   "source": [
    "***Observations:***\n",
    "* Even if a lot of churn users thought about upgrading, actually few of them really did and most of the people who have upgraded stayed engaged with the service.\n",
    "* On the other side, some non churn users thought about downgrading but few did and even among the ones who did, most of them stayed in the end.\n",
    "\n",
    "## 3.7. Is the app working fine?\n",
    "### 3.7.1. Explore the user's Operating System\n",
    "We have seen during the Data Understanding phase that we have information about the user's browser user-agent. We could try to extract some information such as the underlying Operating System or even maybe the device. We could also count the number of errors the user encountered (either via HTTP code 404 or for page=Error, etc.). Maybe a lot (and recurrent) errors would lead some users to churn."
   ]
  },
  {
   "cell_type": "code",
   "execution_count": 119,
   "metadata": {},
   "outputs": [],
   "source": [
    "df_useragent_pandas = df_users_with_churn_full.select('userId', 'userAgent', 'churn').toPandas()"
   ]
  },
  {
   "cell_type": "code",
   "execution_count": 120,
   "metadata": {},
   "outputs": [
    {
     "data": {
      "text/plain": [
       "array([ '\"Mozilla/5.0 (iPhone; CPU iPhone OS 7_1_2 like Mac OS X) AppleWebKit/537.51.2 (KHTML, like Gecko) Version/7.0 Mobile/11D257 Safari/9537.53\"',\n",
       "       '\"Mozilla/5.0 (iPhone; CPU iPhone OS 7_1 like Mac OS X) AppleWebKit/537.51.2 (KHTML, like Gecko) Version/7.0 Mobile/11D167 Safari/9537.53\"',\n",
       "       '\"Mozilla/5.0 (Macintosh; Intel Mac OS X 10_9_4) AppleWebKit/537.36 (KHTML, like Gecko) Chrome/36.0.1985.125 Safari/537.36\"',\n",
       "       '\"Mozilla/5.0 (Macintosh; Intel Mac OS X 10_9_4) AppleWebKit/537.36 (KHTML, like Gecko) Chrome/36.0.1985.143 Safari/537.36\"',\n",
       "       '\"Mozilla/5.0 (Windows NT 6.1; WOW64) AppleWebKit/537.36 (KHTML, like Gecko) Chrome/36.0.1985.143 Safari/537.36\"',\n",
       "       'Mozilla/5.0 (Windows NT 6.1; rv:31.0) Gecko/20100101 Firefox/31.0',\n",
       "       'Mozilla/5.0 (Windows NT 6.1; WOW64; rv:32.0) Gecko/20100101 Firefox/32.0',\n",
       "       '\"Mozilla/5.0 (Macintosh; Intel Mac OS X 10_9_4) AppleWebKit/537.77.4 (KHTML, like Gecko) Version/7.0.5 Safari/537.77.4\"',\n",
       "       'Mozilla/5.0 (Windows NT 6.2; WOW64; rv:31.0) Gecko/20100101 Firefox/31.0',\n",
       "       'Mozilla/5.0 (Windows NT 6.1; WOW64; Trident/7.0; rv:11.0) like Gecko',\n",
       "       '\"Mozilla/5.0 (iPad; CPU OS 7_1_1 like Mac OS X) AppleWebKit/537.51.2 (KHTML, like Gecko) Version/7.0 Mobile/11D201 Safari/9537.53\"',\n",
       "       '\"Mozilla/5.0 (Macintosh; Intel Mac OS X 10_10) AppleWebKit/600.1.8 (KHTML, like Gecko) Version/8.0 Safari/600.1.8\"',\n",
       "       '\"Mozilla/5.0 (Macintosh; Intel Mac OS X 10_9_4) AppleWebKit/537.78.2 (KHTML, like Gecko) Version/7.0.6 Safari/537.78.2\"',\n",
       "       'Mozilla/5.0 (Windows NT 6.1; WOW64; rv:31.0) Gecko/20100101 Firefox/31.0',\n",
       "       '\"Mozilla/5.0 (Windows NT 6.1) AppleWebKit/537.36 (KHTML, like Gecko) Chrome/36.0.1985.143 Safari/537.36\"',\n",
       "       'Mozilla/5.0 (X11; Ubuntu; Linux x86_64; rv:31.0) Gecko/20100101 Firefox/31.0',\n",
       "       '\"Mozilla/5.0 (Macintosh; Intel Mac OS X 10_9_4) AppleWebKit/537.36 (KHTML, like Gecko) Chrome/37.0.2062.94 Safari/537.36\"',\n",
       "       '\"Mozilla/5.0 (Windows NT 6.3; WOW64) AppleWebKit/537.36 (KHTML, like Gecko) Chrome/36.0.1985.143 Safari/537.36\"',\n",
       "       '\"Mozilla/5.0 (Windows NT 5.1) AppleWebKit/537.36 (KHTML, like Gecko) Chrome/36.0.1985.143 Safari/537.36\"',\n",
       "       'Mozilla/5.0 (Macintosh; Intel Mac OS X 10.9; rv:31.0) Gecko/20100101 Firefox/31.0',\n",
       "       '\"Mozilla/5.0 (X11; Linux x86_64) AppleWebKit/537.36 (KHTML, like Gecko) Chrome/36.0.1985.143 Safari/537.36\"',\n",
       "       'Mozilla/5.0 (Macintosh; Intel Mac OS X 10.7; rv:31.0) Gecko/20100101 Firefox/31.0',\n",
       "       'Mozilla/5.0 (Macintosh; Intel Mac OS X 10.6; rv:31.0) Gecko/20100101 Firefox/31.0',\n",
       "       '\"Mozilla/5.0 (Macintosh; Intel Mac OS X 10_9_4) AppleWebKit/537.36 (KHTML, like Gecko) Chrome/35.0.1916.153 Safari/537.36\"',\n",
       "       '\"Mozilla/5.0 (Macintosh; Intel Mac OS X 10_8_5) AppleWebKit/537.36 (KHTML, like Gecko) Chrome/37.0.2062.94 Safari/537.36\"',\n",
       "       '\"Mozilla/5.0 (Macintosh; Intel Mac OS X 10_7_5) AppleWebKit/537.36 (KHTML, like Gecko) Chrome/36.0.1985.125 Safari/537.36\"',\n",
       "       '\"Mozilla/5.0 (X11; Linux x86_64) AppleWebKit/537.36 (KHTML, like Gecko) Chrome/36.0.1985.125 Safari/537.36\"',\n",
       "       '\"Mozilla/5.0 (Macintosh; Intel Mac OS X 10_8_5) AppleWebKit/537.36 (KHTML, like Gecko) Chrome/36.0.1985.143 Safari/537.36\"',\n",
       "       'Mozilla/5.0 (Windows NT 6.1; WOW64; rv:30.0) Gecko/20100101 Firefox/30.0',\n",
       "       '\"Mozilla/5.0 (Windows NT 6.1; WOW64) AppleWebKit/537.36 (KHTML, like Gecko) Chrome/37.0.2062.103 Safari/537.36\"',\n",
       "       '\"Mozilla/5.0 (iPhone; CPU iPhone OS 7_1_1 like Mac OS X) AppleWebKit/537.51.2 (KHTML, like Gecko) Version/7.0 Mobile/11D201 Safari/9537.53\"',\n",
       "       '\"Mozilla/5.0 (Windows NT 6.1; WOW64) AppleWebKit/537.36 (KHTML, like Gecko) Chrome/37.0.2062.94 Safari/537.36\"',\n",
       "       '\"Mozilla/5.0 (Windows NT 6.1; WOW64) AppleWebKit/537.36 (KHTML, like Gecko) Chrome/36.0.1985.125 Safari/537.36\"',\n",
       "       'Mozilla/5.0 (Windows NT 6.1; WOW64; rv:24.0) Gecko/20100101 Firefox/24.0',\n",
       "       '\"Mozilla/5.0 (Windows NT 6.3; WOW64) AppleWebKit/537.36 (KHTML, like Gecko) Chrome/36.0.1985.125 Safari/537.36\"',\n",
       "       'Mozilla/5.0 (compatible; MSIE 9.0; Windows NT 6.1; WOW64; Trident/5.0)',\n",
       "       '\"Mozilla/5.0 (Windows NT 5.1) AppleWebKit/537.36 (KHTML, like Gecko) Chrome/36.0.1985.125 Safari/537.36\"',\n",
       "       '\"Mozilla/5.0 (Windows NT 6.2; WOW64) AppleWebKit/537.36 (KHTML, like Gecko) Chrome/36.0.1985.125 Safari/537.36\"',\n",
       "       '\"Mozilla/5.0 (Windows NT 6.1; WOW64) AppleWebKit/537.36 (KHTML, like Gecko) Chrome/35.0.1916.153 Safari/537.36\"',\n",
       "       'Mozilla/5.0 (compatible; MSIE 9.0; Windows NT 6.1; Trident/5.0)',\n",
       "       '\"Mozilla/5.0 (Windows NT 6.1) AppleWebKit/537.36 (KHTML, like Gecko) Chrome/36.0.1985.125 Safari/537.36\"',\n",
       "       'Mozilla/5.0 (Macintosh; Intel Mac OS X 10.8; rv:31.0) Gecko/20100101 Firefox/31.0',\n",
       "       '\"Mozilla/5.0 (Macintosh; Intel Mac OS X 10_9_3) AppleWebKit/537.76.4 (KHTML, like Gecko) Version/7.0.4 Safari/537.76.4\"',\n",
       "       'Mozilla/5.0 (compatible; MSIE 10.0; Windows NT 6.1; WOW64; Trident/6.0)',\n",
       "       'Mozilla/5.0 (Windows NT 6.3; WOW64; rv:31.0) Gecko/20100101 Firefox/31.0',\n",
       "       '\"Mozilla/5.0 (Macintosh; Intel Mac OS X 10_9_2) AppleWebKit/537.75.14 (KHTML, like Gecko) Version/7.0.3 Safari/537.75.14\"',\n",
       "       '\"Mozilla/5.0 (Macintosh; Intel Mac OS X 10_9_2) AppleWebKit/537.36 (KHTML, like Gecko) Chrome/36.0.1985.125 Safari/537.36\"',\n",
       "       '\"Mozilla/5.0 (iPad; CPU OS 7_1_2 like Mac OS X) AppleWebKit/537.51.2 (KHTML, like Gecko) Version/7.0 Mobile/11D257 Safari/9537.53\"',\n",
       "       'Mozilla/5.0 (X11; Ubuntu; Linux i686; rv:31.0) Gecko/20100101 Firefox/31.0',\n",
       "       '\"Mozilla/5.0 (Macintosh; Intel Mac OS X 10_9_2) AppleWebKit/537.74.9 (KHTML, like Gecko) Version/7.0.2 Safari/537.74.9\"',\n",
       "       '\"Mozilla/5.0 (Macintosh; Intel Mac OS X 10_10) AppleWebKit/600.1.3 (KHTML, like Gecko) Version/8.0 Safari/600.1.3\"',\n",
       "       'Mozilla/5.0 (X11; Linux x86_64; rv:31.0) Gecko/20100101 Firefox/31.0',\n",
       "       'Mozilla/5.0 (Windows NT 6.0; rv:31.0) Gecko/20100101 Firefox/31.0',\n",
       "       '\"Mozilla/5.0 (Macintosh; Intel Mac OS X 10_7_5) AppleWebKit/537.77.4 (KHTML, like Gecko) Version/6.1.5 Safari/537.77.4\"',\n",
       "       '\"Mozilla/5.0 (Windows NT 6.2; WOW64) AppleWebKit/537.36 (KHTML, like Gecko) Chrome/36.0.1985.143 Safari/537.36\"',\n",
       "       '\"Mozilla/5.0 (Macintosh; Intel Mac OS X 10_6_8) AppleWebKit/537.36 (KHTML, like Gecko) Chrome/36.0.1985.143 Safari/537.36\"'], dtype=object)"
      ]
     },
     "execution_count": 120,
     "metadata": {},
     "output_type": "execute_result"
    }
   ],
   "source": [
    "df_useragent_pandas.userAgent.unique()"
   ]
  },
  {
   "cell_type": "markdown",
   "metadata": {},
   "source": [
    "How can we extract browser or even device? [Here is a good starting point](https://developer.mozilla.org/en-US/docs/Web/HTTP/Headers/User-Agent):\n",
    "> ```User-Agent: Mozilla/<version> (<system-information>) <platform> (<platform-details>) <extensions>```"
   ]
  },
  {
   "cell_type": "code",
   "execution_count": 121,
   "metadata": {},
   "outputs": [],
   "source": [
    "# Define the regex (regex101 is your friend to validate it works!)\n",
    "def extract_systeminfo(txt):\n",
    "    matches = re.match(\".*Mozilla/[0-9.]+\\s\\(([a-zA-Z0-9\\s.]+)(;|\\))\", txt)\n",
    "    if matches:\n",
    "        return matches.group(1)\n",
    "    else:\n",
    "        return \"\""
   ]
  },
  {
   "cell_type": "code",
   "execution_count": 122,
   "metadata": {},
   "outputs": [
    {
     "data": {
      "text/plain": [
       "'iPhone'"
      ]
     },
     "execution_count": 122,
     "metadata": {},
     "output_type": "execute_result"
    }
   ],
   "source": [
    "# Check it anyway on one random value\n",
    "extract_systeminfo('\"Mozilla/5.0 (iPhone; CPU iPhone OS 7_1_2 like Mac OS X) AppleWebKit/537.51.2 (KHTML, like Gecko) Version/7.0 Mobile/11D257 Safari/9537.53\"')"
   ]
  },
  {
   "cell_type": "code",
   "execution_count": 123,
   "metadata": {},
   "outputs": [
    {
     "data": {
      "text/html": [
       "<div>\n",
       "<style scoped>\n",
       "    .dataframe tbody tr th:only-of-type {\n",
       "        vertical-align: middle;\n",
       "    }\n",
       "\n",
       "    .dataframe tbody tr th {\n",
       "        vertical-align: top;\n",
       "    }\n",
       "\n",
       "    .dataframe thead th {\n",
       "        text-align: right;\n",
       "    }\n",
       "</style>\n",
       "<table border=\"1\" class=\"dataframe\">\n",
       "  <thead>\n",
       "    <tr style=\"text-align: right;\">\n",
       "      <th></th>\n",
       "      <th>userId</th>\n",
       "      <th>system_info</th>\n",
       "      <th>churn</th>\n",
       "    </tr>\n",
       "  </thead>\n",
       "  <tbody>\n",
       "    <tr>\n",
       "      <th>0</th>\n",
       "      <td>10</td>\n",
       "      <td>Macintosh</td>\n",
       "      <td>0</td>\n",
       "    </tr>\n",
       "    <tr>\n",
       "      <th>1</th>\n",
       "      <td>100</td>\n",
       "      <td>Windows NT 6.1</td>\n",
       "      <td>0</td>\n",
       "    </tr>\n",
       "    <tr>\n",
       "      <th>2</th>\n",
       "      <td>100001</td>\n",
       "      <td>Macintosh</td>\n",
       "      <td>1</td>\n",
       "    </tr>\n",
       "    <tr>\n",
       "      <th>3</th>\n",
       "      <td>100002</td>\n",
       "      <td>Windows NT 6.1</td>\n",
       "      <td>0</td>\n",
       "    </tr>\n",
       "    <tr>\n",
       "      <th>4</th>\n",
       "      <td>100003</td>\n",
       "      <td>Windows NT 6.1</td>\n",
       "      <td>1</td>\n",
       "    </tr>\n",
       "    <tr>\n",
       "      <th>5</th>\n",
       "      <td>100004</td>\n",
       "      <td>compatible</td>\n",
       "      <td>0</td>\n",
       "    </tr>\n",
       "    <tr>\n",
       "      <th>6</th>\n",
       "      <td>100005</td>\n",
       "      <td>Macintosh</td>\n",
       "      <td>1</td>\n",
       "    </tr>\n",
       "    <tr>\n",
       "      <th>7</th>\n",
       "      <td>100006</td>\n",
       "      <td>Windows NT 6.3</td>\n",
       "      <td>1</td>\n",
       "    </tr>\n",
       "    <tr>\n",
       "      <th>8</th>\n",
       "      <td>100007</td>\n",
       "      <td>Windows NT 6.3</td>\n",
       "      <td>1</td>\n",
       "    </tr>\n",
       "    <tr>\n",
       "      <th>9</th>\n",
       "      <td>100008</td>\n",
       "      <td>Macintosh</td>\n",
       "      <td>0</td>\n",
       "    </tr>\n",
       "  </tbody>\n",
       "</table>\n",
       "</div>"
      ],
      "text/plain": [
       "   userId     system_info  churn\n",
       "0      10       Macintosh      0\n",
       "1     100  Windows NT 6.1      0\n",
       "2  100001       Macintosh      1\n",
       "3  100002  Windows NT 6.1      0\n",
       "4  100003  Windows NT 6.1      1\n",
       "5  100004      compatible      0\n",
       "6  100005       Macintosh      1\n",
       "7  100006  Windows NT 6.3      1\n",
       "8  100007  Windows NT 6.3      1\n",
       "9  100008       Macintosh      0"
      ]
     },
     "execution_count": 123,
     "metadata": {},
     "output_type": "execute_result"
    }
   ],
   "source": [
    "df_useragent_pandas['system_info'] = df_useragent_pandas['userAgent'].apply(lambda x: extract_systeminfo(x))\n",
    "# df_useragent_pandas.drop(['userAgent'], axis=1, inplace=True)\n",
    "df_sysinfo = df_useragent_pandas.groupby(['userId', 'system_info']).churn.max().reset_index()\n",
    "df_sysinfo.head(10)"
   ]
  },
  {
   "cell_type": "code",
   "execution_count": 124,
   "metadata": {},
   "outputs": [
    {
     "data": {
      "text/plain": [
       "Macintosh         86\n",
       "Windows NT 6.1    80\n",
       "Windows NT 6.3    16\n",
       "iPhone            13\n",
       "X11               12\n",
       "compatible         5\n",
       "Windows NT 5.1     5\n",
       "Windows NT 6.2     4\n",
       "iPad               3\n",
       "Windows NT 6.0     1\n",
       "Name: system_info, dtype: int64"
      ]
     },
     "execution_count": 124,
     "metadata": {},
     "output_type": "execute_result"
    }
   ],
   "source": [
    "df_sysinfo.system_info.value_counts()"
   ]
  },
  {
   "cell_type": "code",
   "execution_count": 127,
   "metadata": {},
   "outputs": [
    {
     "data": {
      "text/plain": [
       "array(['Mozilla/5.0 (compatible; MSIE 9.0; Windows NT 6.1; WOW64; Trident/5.0)',\n",
       "       'Mozilla/5.0 (compatible; MSIE 9.0; Windows NT 6.1; Trident/5.0)',\n",
       "       'Mozilla/5.0 (compatible; MSIE 10.0; Windows NT 6.1; WOW64; Trident/6.0)'], dtype=object)"
      ]
     },
     "execution_count": 127,
     "metadata": {},
     "output_type": "execute_result"
    }
   ],
   "source": [
    "# What is 'compatible'?\n",
    "df_useragent_pandas[df_useragent_pandas['system_info'] == 'compatible'].userAgent.unique()"
   ]
  },
  {
   "cell_type": "markdown",
   "metadata": {},
   "source": [
    "Perform some replacements with the help of this [wikipedia](https://en.wikipedia.org/wiki/List_of_Microsoft_Windows_versions) page:\n",
    "* Just here (because it would perhaps not be the same everywhere), replace 'compatible' with Windows NT 6.1\n",
    "* X11 is Linux system\n",
    "* Windows NT 5.1 is Windows XP\n",
    "* Windows NT 6.0 is Windows Vista\n",
    "* Windows NT 6.1 is Windows Seven\n",
    "* Windows NT 6.2 is Windows 8\n",
    "* Windows NT 6.3 is Windows 8.1"
   ]
  },
  {
   "cell_type": "code",
   "execution_count": 130,
   "metadata": {},
   "outputs": [
    {
     "data": {
      "text/plain": [
       "Macintosh        86\n",
       "Windows Seven    85\n",
       "Windows 8.1      16\n",
       "iPhone           13\n",
       "Linux            12\n",
       "Windows XP        5\n",
       "Windows 8         4\n",
       "iPad              3\n",
       "Windows Vista     1\n",
       "Name: system_info, dtype: int64"
      ]
     },
     "execution_count": 130,
     "metadata": {},
     "output_type": "execute_result"
    }
   ],
   "source": [
    "df_sysinfo.system_info.replace('compatible', 'Windows NT 6.1', inplace=True)\n",
    "df_sysinfo.system_info.replace('X11', 'Linux', inplace=True)\n",
    "df_sysinfo.system_info.replace('Windows NT 5.1', 'Windows XP', inplace=True)\n",
    "df_sysinfo.system_info.replace('Windows NT 6.0', 'Windows Vista', inplace=True)\n",
    "df_sysinfo.system_info.replace('Windows NT 6.1', 'Windows Seven', inplace=True)\n",
    "df_sysinfo.system_info.replace('Windows NT 6.2', 'Windows 8', inplace=True)\n",
    "df_sysinfo.system_info.replace('Windows NT 6.3', 'Windows 8.1', inplace=True)\n",
    "df_sysinfo.system_info.value_counts()"
   ]
  },
  {
   "cell_type": "code",
   "execution_count": 146,
   "metadata": {
    "scrolled": false
   },
   "outputs": [
    {
     "data": {
      "image/png": "[encoded data removed]",
      "text/plain": [
       "<matplotlib.figure.Figure at 0x7f8112f3fef0>"
      ]
     },
     "metadata": {
      "needs_background": "light"
     },
     "output_type": "display_data"
    }
   ],
   "source": [
    "figure, axis = plt.subplots(1, 1, figsize=(10, 6))\n",
    "axis.set_title(\"What is the user's operating system (churn vs. others)?\")\n",
    "sns.countplot(y='system_info', hue='churn', data=df_sysinfo, ax=axis, orient=\"h\")\n",
    "axis.set_ylabel(\"Operating System\")\n",
    "axis.set_xlabel(\"Number of users\")\n",
    "plt.legend(loc=\"best\")\n",
    "plt.show()"
   ]
  },
  {
   "cell_type": "markdown",
   "metadata": {},
   "source": [
    "***Observations:*** in this dataset people with a Mac are the ones who have churned most (but they are also the most represented users!). I would highliht 'Linux' users that are near 40/60% of churn/no churn."
   ]
  },
  {
   "cell_type": "code",
   "execution_count": 173,
   "metadata": {},
   "outputs": [
    {
     "data": {
      "text/html": [
       "<div>\n",
       "<style scoped>\n",
       "    .dataframe tbody tr th:only-of-type {\n",
       "        vertical-align: middle;\n",
       "    }\n",
       "\n",
       "    .dataframe tbody tr th {\n",
       "        vertical-align: top;\n",
       "    }\n",
       "\n",
       "    .dataframe thead th {\n",
       "        text-align: right;\n",
       "    }\n",
       "</style>\n",
       "<table border=\"1\" class=\"dataframe\">\n",
       "  <thead>\n",
       "    <tr style=\"text-align: right;\">\n",
       "      <th></th>\n",
       "      <th>system_info</th>\n",
       "      <th>total</th>\n",
       "      <th>churn_0</th>\n",
       "      <th>churn_1</th>\n",
       "      <th>perc_churn</th>\n",
       "    </tr>\n",
       "  </thead>\n",
       "  <tbody>\n",
       "    <tr>\n",
       "      <th>0</th>\n",
       "      <td>Linux</td>\n",
       "      <td>12</td>\n",
       "      <td>7</td>\n",
       "      <td>5</td>\n",
       "      <td>41.67</td>\n",
       "    </tr>\n",
       "    <tr>\n",
       "      <th>3</th>\n",
       "      <td>Windows 8.1</td>\n",
       "      <td>16</td>\n",
       "      <td>11</td>\n",
       "      <td>5</td>\n",
       "      <td>31.25</td>\n",
       "    </tr>\n",
       "    <tr>\n",
       "      <th>6</th>\n",
       "      <td>iPhone</td>\n",
       "      <td>13</td>\n",
       "      <td>9</td>\n",
       "      <td>4</td>\n",
       "      <td>30.77</td>\n",
       "    </tr>\n",
       "    <tr>\n",
       "      <th>2</th>\n",
       "      <td>Windows 8</td>\n",
       "      <td>4</td>\n",
       "      <td>3</td>\n",
       "      <td>1</td>\n",
       "      <td>25.00</td>\n",
       "    </tr>\n",
       "    <tr>\n",
       "      <th>1</th>\n",
       "      <td>Macintosh</td>\n",
       "      <td>86</td>\n",
       "      <td>67</td>\n",
       "      <td>19</td>\n",
       "      <td>22.09</td>\n",
       "    </tr>\n",
       "    <tr>\n",
       "      <th>4</th>\n",
       "      <td>Windows Seven</td>\n",
       "      <td>85</td>\n",
       "      <td>68</td>\n",
       "      <td>17</td>\n",
       "      <td>20.00</td>\n",
       "    </tr>\n",
       "    <tr>\n",
       "      <th>5</th>\n",
       "      <td>Windows XP</td>\n",
       "      <td>5</td>\n",
       "      <td>4</td>\n",
       "      <td>1</td>\n",
       "      <td>20.00</td>\n",
       "    </tr>\n",
       "  </tbody>\n",
       "</table>\n",
       "</div>"
      ],
      "text/plain": [
       "     system_info  total  churn_0  churn_1  perc_churn\n",
       "0          Linux     12        7        5       41.67\n",
       "3    Windows 8.1     16       11        5       31.25\n",
       "6         iPhone     13        9        4       30.77\n",
       "2      Windows 8      4        3        1       25.00\n",
       "1      Macintosh     86       67       19       22.09\n",
       "4  Windows Seven     85       68       17       20.00\n",
       "5     Windows XP      5        4        1       20.00"
      ]
     },
     "execution_count": 173,
     "metadata": {},
     "output_type": "execute_result"
    }
   ],
   "source": [
    "df_sysinfo_tot = df_sysinfo.groupby(['system_info']).churn.count().reset_index()\n",
    "df_sysinfo_tot = df_sysinfo_tot.merge(df_sysinfo[df_sysinfo['churn'] == 0].groupby(['system_info']).churn.count().reset_index(), on='system_info')\n",
    "df_sysinfo_tot = df_sysinfo_tot.merge(df_sysinfo[df_sysinfo['churn'] == 1].groupby(['system_info']).churn.count().reset_index(), on='system_info')\n",
    "df_sysinfo_tot.columns = ['system_info', 'total', 'churn_0', 'churn_1']\n",
    "df_sysinfo_tot['perc_churn'] = np.round(100*(df_sysinfo_tot['churn_1']/df_sysinfo_tot['total']), 2)\n",
    "df_sysinfo_tot.sort_values(by='perc_churn', ascending=False)"
   ]
  },
  {
   "cell_type": "markdown",
   "metadata": {},
   "source": [
    "***Note***: as observed, it seems that people under Linux are suffering a bad experience and so they cancel their subscription.\n",
    "\n",
    "### 3.7.2. How many errors encountered per user?\n",
    "We have seen that there are some elements in the dataset that are related to errors:\n",
    "* HTTP code 404\n",
    "* page 'Error'"
   ]
  },
  {
   "cell_type": "code",
   "execution_count": 20,
   "metadata": {},
   "outputs": [],
   "source": [
    "df_error_pandas = df_users_with_churn_full.select('userId', 'page', 'status', 'churn').toPandas()"
   ]
  },
  {
   "cell_type": "code",
   "execution_count": 22,
   "metadata": {},
   "outputs": [],
   "source": [
    "# Gather all information we are interested in by filtering on page type\n",
    "df_err_page = df_error_pandas[df_error_pandas['page'] == 'Error'].groupby(['userId']).page.count().reset_index()\n",
    "df_err_page.columns = ['userId', 'nb_error_pages']\n",
    "\n",
    "df_err_status = df_error_pandas[df_error_pandas['status'] == 404].groupby(['userId']).page.count().reset_index()\n",
    "df_err_status.columns = ['userId', 'nb_404']\n",
    "\n",
    "# And then merge everything and replace NaN (due to left-join strategy to keep all users) with 0\n",
    "df_error_data = df_error_pandas.groupby(['userId']).churn.max().reset_index()\n",
    "df_error_data = df_error_data.merge(df_err_page, on='userId', how='left').merge(df_err_status, on='userId', how='left')\n",
    "df_error_data = df_error_data.fillna(0)"
   ]
  },
  {
   "cell_type": "code",
   "execution_count": 23,
   "metadata": {},
   "outputs": [
    {
     "data": {
      "text/html": [
       "<div>\n",
       "<style scoped>\n",
       "    .dataframe tbody tr th:only-of-type {\n",
       "        vertical-align: middle;\n",
       "    }\n",
       "\n",
       "    .dataframe tbody tr th {\n",
       "        vertical-align: top;\n",
       "    }\n",
       "\n",
       "    .dataframe thead th {\n",
       "        text-align: right;\n",
       "    }\n",
       "</style>\n",
       "<table border=\"1\" class=\"dataframe\">\n",
       "  <thead>\n",
       "    <tr style=\"text-align: right;\">\n",
       "      <th></th>\n",
       "      <th>userId</th>\n",
       "      <th>churn</th>\n",
       "      <th>nb_error_pages</th>\n",
       "      <th>nb_404</th>\n",
       "    </tr>\n",
       "  </thead>\n",
       "  <tbody>\n",
       "    <tr>\n",
       "      <th>0</th>\n",
       "      <td>10</td>\n",
       "      <td>0</td>\n",
       "      <td>0.0</td>\n",
       "      <td>0.0</td>\n",
       "    </tr>\n",
       "    <tr>\n",
       "      <th>1</th>\n",
       "      <td>100</td>\n",
       "      <td>0</td>\n",
       "      <td>3.0</td>\n",
       "      <td>3.0</td>\n",
       "    </tr>\n",
       "    <tr>\n",
       "      <th>2</th>\n",
       "      <td>100001</td>\n",
       "      <td>1</td>\n",
       "      <td>1.0</td>\n",
       "      <td>1.0</td>\n",
       "    </tr>\n",
       "    <tr>\n",
       "      <th>3</th>\n",
       "      <td>100002</td>\n",
       "      <td>0</td>\n",
       "      <td>0.0</td>\n",
       "      <td>0.0</td>\n",
       "    </tr>\n",
       "    <tr>\n",
       "      <th>4</th>\n",
       "      <td>100003</td>\n",
       "      <td>1</td>\n",
       "      <td>0.0</td>\n",
       "      <td>0.0</td>\n",
       "    </tr>\n",
       "    <tr>\n",
       "      <th>5</th>\n",
       "      <td>100004</td>\n",
       "      <td>0</td>\n",
       "      <td>2.0</td>\n",
       "      <td>2.0</td>\n",
       "    </tr>\n",
       "    <tr>\n",
       "      <th>6</th>\n",
       "      <td>100005</td>\n",
       "      <td>1</td>\n",
       "      <td>0.0</td>\n",
       "      <td>0.0</td>\n",
       "    </tr>\n",
       "    <tr>\n",
       "      <th>7</th>\n",
       "      <td>100006</td>\n",
       "      <td>1</td>\n",
       "      <td>0.0</td>\n",
       "      <td>0.0</td>\n",
       "    </tr>\n",
       "    <tr>\n",
       "      <th>8</th>\n",
       "      <td>100007</td>\n",
       "      <td>1</td>\n",
       "      <td>0.0</td>\n",
       "      <td>0.0</td>\n",
       "    </tr>\n",
       "    <tr>\n",
       "      <th>9</th>\n",
       "      <td>100008</td>\n",
       "      <td>0</td>\n",
       "      <td>0.0</td>\n",
       "      <td>0.0</td>\n",
       "    </tr>\n",
       "  </tbody>\n",
       "</table>\n",
       "</div>"
      ],
      "text/plain": [
       "   userId  churn  nb_error_pages  nb_404\n",
       "0      10      0             0.0     0.0\n",
       "1     100      0             3.0     3.0\n",
       "2  100001      1             1.0     1.0\n",
       "3  100002      0             0.0     0.0\n",
       "4  100003      1             0.0     0.0\n",
       "5  100004      0             2.0     2.0\n",
       "6  100005      1             0.0     0.0\n",
       "7  100006      1             0.0     0.0\n",
       "8  100007      1             0.0     0.0\n",
       "9  100008      0             0.0     0.0"
      ]
     },
     "execution_count": 23,
     "metadata": {},
     "output_type": "execute_result"
    }
   ],
   "source": [
    "df_error_data.head(10)"
   ]
  },
  {
   "cell_type": "code",
   "execution_count": 24,
   "metadata": {},
   "outputs": [
    {
     "data": {
      "text/plain": [
       "0.0"
      ]
     },
     "execution_count": 24,
     "metadata": {},
     "output_type": "execute_result"
    }
   ],
   "source": [
    "# Are the values different actually?\n",
    "df_error_data['err_diff'] = df_error_data['nb_error_pages'] - df_error_data['nb_404']\n",
    "df_error_data['err_diff'].sum()"
   ]
  },
  {
   "cell_type": "code",
   "execution_count": 25,
   "metadata": {},
   "outputs": [
    {
     "data": {
      "image/png": "[encoded data removed]",
      "text/plain": [
       "<matplotlib.figure.Figure at 0x7f33114ec2b0>"
      ]
     },
     "metadata": {
      "needs_background": "light"
     },
     "output_type": "display_data"
    }
   ],
   "source": [
    "figure, axis = plt.subplots(1, 1, figsize=(10, 6))\n",
    "axis.set_title(\"Number of errors encountered per user (churn vs. others)?\")\n",
    "sns.countplot(y='nb_404', hue='churn', data=df_error_data, ax=axis, orient=\"h\")\n",
    "axis.set_ylabel(\"Operating System\")\n",
    "axis.set_xlabel(\"Number of errors\")\n",
    "plt.legend(loc=\"best\")\n",
    "plt.show()"
   ]
  },
  {
   "cell_type": "markdown",
   "metadata": {},
   "source": [
    "It is not so obvious, _in this dataset_ to make a conclusion about the number of errors and the churn as there were few errors actually and even with errors, most of the people stayed. And some quit even if they had no error."
   ]
  },
  {
   "cell_type": "markdown",
   "metadata": {},
   "source": [
    "---\n",
    "# CONCLUSION\n",
    "We have now seen a lot of graphs and have a better idea of what could help us to detect churn. For example:\n",
    "* `level` of subscription\n",
    "* `registration` time for the user\n",
    "* `engagement` of the user with the number of artists, songs or even the total length of music listened, add to playlist number\n",
    "* `social interactions` with likes/dislikes, friends, etc\n",
    "* `upgrade/downgrade` the subscription level\n",
    "* `user operating system` which could help us to identify users of a version that does not give entire satisfaction\n",
    "* `errors_encountered` which could help us to identify users who had several issues and then maybe quit\n",
    "\n",
    "We can now start the next part, the modeling phase. This will be done in this [notebook](3_Sparkify_Modeling.ipynb)."
   ]
  }
 ],
 "metadata": {
  "kernelspec": {
   "display_name": "Python 3",
   "language": "python",
   "name": "python3"
  },
  "language_info": {
   "codemirror_mode": {
    "name": "ipython",
    "version": 3
   },
   "file_extension": ".py",
   "mimetype": "text/x-python",
   "name": "python",
   "nbconvert_exporter": "python",
   "pygments_lexer": "ipython3",
   "version": "3.6.3"
  }
 },
 "nbformat": 4,
 "nbformat_minor": 2
}
